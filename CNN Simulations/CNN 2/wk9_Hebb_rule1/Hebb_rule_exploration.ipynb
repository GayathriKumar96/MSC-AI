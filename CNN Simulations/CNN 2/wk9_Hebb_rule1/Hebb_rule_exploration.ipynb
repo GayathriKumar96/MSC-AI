{
 "cells": [
  {
   "cell_type": "markdown",
   "metadata": {
    "collapsed": true,
    "jupyter": {
     "outputs_hidden": true
    },
    "pycharm": {
     "name": "#%% md\n"
    }
   },
   "source": [
    "## Practical Exploration of Hebbian Learning - Part 1\n",
    "\n",
    "Marek Grzes\n",
    "\n",
    "University of Kent\n",
    "\n",
    "COMP6360/8360, Teaching week 9\n",
    "\n",
    "Last modified 01/11/2022\n",
    "\n",
    "This exploration complements chapter 4 in O'Reilly & Munakata (2000) that introduces Hebbian learning and Principal Component analysis.\n",
    "\n",
    "## Contents\n",
    "- [Pearson Correlation Coefficient](#Pearson-Correlation-Coefficient)\n",
    "- [Question 1 - Correlation](#Question-1---Correlation)\n",
    "- [Question 2 - Simple Hebb Rule](#Question-2---Simple-Hebb-Rule)\n",
    "- [Question 3 - Oja's Rule](#Question-3---Oja's-Rule)\n",
    "- [Question 4 - Learning Rate](#Question-4---Learning-Rate)\n",
    "- [References](#References)"
   ]
  },
  {
   "cell_type": "markdown",
   "metadata": {
    "pycharm": {
     "name": "#%% md\n"
    }
   },
   "source": [
    "### Pearson Correlation Coefficient\n",
    "\n",
    "Hebbian learning finds correlational patterns. It is therefore useful to understand correlation. Note that correlation (https://en.wikipedia.org/wiki/Correlation_coefficient) is a general term, and we will focus on the Pearson correlation coefficient (PCC) (https://en.wikipedia.org/wiki/Pearson_correlation_coefficient), which is denoted by $r$ in our notation below. The PCC measures a linear correlation between two variables $X_i$ and $X_j$. It has a value between $+1$ and $-1$. A value of $+1$ is total positive linear correlation, $0$ is no linear correlation, and $-1$ is total negative linear correlation.\n",
    "\n",
    "In a given dataset $X$ with attributes $X_i$ and $X_k$, let $x_{ni}$ and $x_{nk}$ be the values of attributes $X_i$ and $X_k$ for a data sample $n$. Assuming the number of data samples is $N$, the corrleation coefficient $r_{ik}$ between features $X_i$ and $X_k$ is defined as:\n",
    "$r_{ik}={\\frac {\\sum _{n=1}^{N}(x_{ni}-{\\bar {x}_i})(x_{nk}-{\\bar{x}_k})}{{\\sqrt {\\sum _{n=1}^{N}(x_{ni}-{\\bar {x}_i})^{2}}}{\\sqrt {\\sum _{n=1}^{N}(x_{nk}-{\\bar {x}_k})^{2}}}}}$\n",
    "where the right-hand-side of the equation includes the average values for $X_i$ and $X_k$ (i.e. $\\bar{x}_i$ and $\\bar{x}_k$ respectively).\n",
    "\n",
    "Covariance between $X_i$ and $X_k$ (i.e. $C_{ik}$) and their variances ($s^2_i$ and $s^2_k$) can be identified in the formula for $r_{ik}$. These terms are defined below. Note that $i$ and $k$ in all the equations in this section are indexes for columns (i.e. data features), and $n$ is an index for rows (i.e. data items/examples).\n",
    "\n",
    "$\\bar{x}_i = \\frac{1}{N} \\sum_{n=1}^{N} x_{ni}$,\n",
    "\n",
    "$\\bar{x}_k = \\frac{1}{N} \\sum_{n=1}^{N} x_{nk}$,\n",
    "\n",
    "$C_{ik} = \\frac{1}{N} \\sum _{n=1}^{N}(x_{ni}-{\\bar {x}_i})(x_{nk}-{\\bar {x}_k})$,\n",
    "\n",
    "$s^2_i = \\frac{1}{N}\\sum _{n=1}^{N}(x_{ni}-{\\bar {x}_i})^{2}$,\n",
    "\n",
    "$s^2_k = \\frac{1}{N}\\sum _{n=1}^{N}(x_{nk}-{\\bar {x}_k})^{2}$.\n",
    "\n",
    "Using the above formulas, the equation for $r_{ik}$ can be written as:\n",
    "$r_{ik}=\\frac{C_{ik}}{s_is_k}$."
   ]
  },
  {
   "cell_type": "markdown",
   "metadata": {
    "pycharm": {
     "name": "#%% md\n"
    }
   },
   "source": [
    "### Question 1 - Correlation\n",
    "\n",
    "In this question, you are given a small dataset, and your goal is to implement a procedure that will compute the correlation factor for every pair of the variables in the dataset. If this task appears fiddly to you, and it takes you more than 20 minutes to implement, you should skip it during class, and do it in your self-study time afterwards.\n",
    "\n",
    "You are encouraged to follow the following steps while working on this question:\n",
    "\n",
    "- **(1-1):** Inspect the data file `data_HL_simple.txt`. Check how many columns (attributes) and how many data examples (rows) it has.\n",
    "- **(1-2):** Run the code that is below"
   ]
  },
  {
   "cell_type": "code",
   "execution_count": 14,
   "metadata": {
    "pycharm": {
     "name": "#%%\n"
    },
    "scrolled": true
   },
   "outputs": [
    {
     "name": "stdout",
     "output_type": "stream",
     "text": [
      "original data\n",
      "[[ 0.  0.  1.  1. -1.]\n",
      " [-1.  0. -1. -1.  1.]\n",
      " [-1. -1. -1. -1.  1.]\n",
      " [ 1.  0.  1.  1. -1.]\n",
      " [ 0. -1.  0.  0.  0.]\n",
      " [ 1.  0.  1.  1. -1.]\n",
      " [ 0.  0.  1.  1. -1.]\n",
      " [ 0.  1.  1.  1. -1.]\n",
      " [ 0.  0.  0.  0.  0.]\n",
      " [ 0.  0.  0.  0.  0.]\n",
      " [ 0. -1.  1.  1. -1.]\n",
      " [ 0.  0.  0.  0.  0.]\n",
      " [ 1.  0.  0.  0.  0.]\n",
      " [ 0.  0.  0.  0.  0.]\n",
      " [ 0.  0. -1. -1.  1.]\n",
      " [ 1.  1.  1.  1. -1.]\n",
      " [-1.  0.  0.  0.  0.]\n",
      " [ 0. -1. -1. -1.  1.]\n",
      " [-1. -1.  0.  0.  0.]\n",
      " [-1.  0. -1. -1.  1.]\n",
      " [ 0.  0. -1. -1.  1.]\n",
      " [ 1.  1.  0.  0.  0.]\n",
      " [ 1.  0.  0.  0.  0.]\n",
      " [-1. -1.  0.  0.  0.]\n",
      " [ 0.  0.  0.  0.  0.]\n",
      " [ 0.  1.  0.  0.  0.]\n",
      " [ 0.  0. -1. -1.  1.]\n",
      " [ 0.  0. -1. -1.  1.]\n",
      " [ 0.  0. -1. -1.  1.]\n",
      " [ 0.  1.  0.  0.  0.]\n",
      " [-1.  0. -1. -1.  1.]\n",
      " [ 0.  1.  1.  1. -1.]\n",
      " [ 0. -1.  0.  0.  0.]\n",
      " [ 1. -1.  0.  0.  0.]\n",
      " [ 0.  0.  0.  0.  0.]\n",
      " [ 0.  0.  1.  1. -1.]\n",
      " [-1.  0.  1.  1. -1.]\n",
      " [ 0.  0. -1. -1.  1.]\n",
      " [ 1.  0. -1. -1.  1.]\n",
      " [ 0.  0.  1.  1. -1.]\n",
      " [ 1.  1. -1. -1.  1.]\n",
      " [ 0.  0.  0.  0.  0.]\n",
      " [ 0.  0.  0.  0.  0.]\n",
      " [ 0.  0. -1. -1.  1.]\n",
      " [ 0. -1. -1. -1.  1.]\n",
      " [ 0.  1.  0.  0.  0.]\n",
      " [ 0.  1. -1. -1.  1.]\n",
      " [ 1.  0.  1.  1. -1.]\n",
      " [-1.  1. -1. -1.  1.]\n",
      " [ 1.  1.  1.  1. -1.]]\n",
      "correlation matrix computed using numpy\n",
      "[[ 1.          0.24698795  0.29446685  0.29446685 -0.29446685]\n",
      " [ 0.24698795  1.          0.12996023  0.12996023 -0.12996023]\n",
      " [ 0.29446685  0.12996023  1.          1.         -1.        ]\n",
      " [ 0.29446685  0.12996023  1.          1.         -1.        ]\n",
      " [-0.29446685 -0.12996023 -1.         -1.          1.        ]]\n"
     ]
    }
   ],
   "source": [
    "import numpy as np\n",
    "import math\n",
    "\n",
    "# load data from the text file\n",
    "data = np.loadtxt('data_HL_simple.txt', usecols=range(5))\n",
    "print(\"original data\")\n",
    "print(data)\n",
    "\n",
    "print(\"correlation matrix computed using numpy\")\n",
    "print(np.corrcoef(data.transpose()))"
   ]
  },
  {
   "cell_type": "markdown",
   "metadata": {
    "pycharm": {
     "name": "#%% md\n"
    }
   },
   "source": [
    "- **(1-3):** Inspect the output of the above code. The correlation matrix that is printed shows the output that you will obtain using the formula for $r_{ik}$ that was presented above.\n",
    "- **(1-4):** Implement the Python function that is shown in the block below. The function will take a data array $X$ as input, and will return the value of the correlation coefficient for two of its attributes (columns), $i$ and $k$."
   ]
  },
  {
   "cell_type": "code",
   "execution_count": 3,
   "metadata": {
    "pycharm": {
     "name": "#%%\n"
    }
   },
   "outputs": [],
   "source": [
    "def mycorr(X, i, k):\n",
    "    # TODO: implement me\n",
    "    n = len(X[i])\n",
    "    X_Bar_I = np.mean(X[i])\n",
    "    X_Bar_K = np.mean(X[k])\n",
    "    sum = 0\n",
    "    for index in range(n):\n",
    "        sum += (X[i,index] - X_Bar_I)*(X[k,index] - X_Bar_K)\n",
    "    C = sum/n\n",
    "    S_I_2 = np.var(X[i])\n",
    "    S_K_2 = np.var(X[k])\n",
    "    return C/(math.sqrt(S_I_2*S_K_2))\n",
    "    return 0"
   ]
  },
  {
   "cell_type": "markdown",
   "metadata": {
    "pycharm": {
     "name": "#%% md\n"
    }
   },
   "source": [
    "- **(1-5):** Execute your new function for all pairs of attributes (columns) of the array `data`, and put all the values in a matrix. The matrix that you obtain should be identical with the one that is computed using `np.corrcoef` above."
   ]
  },
  {
   "cell_type": "code",
   "execution_count": 4,
   "metadata": {
    "pycharm": {
     "name": "#%%\n"
    }
   },
   "outputs": [
    {
     "name": "stdout",
     "output_type": "stream",
     "text": [
      "[[ 1.          0.24698795  0.29446685  0.29446685 -0.29446685]\n",
      " [ 0.24698795  1.          0.12996023  0.12996023 -0.12996023]\n",
      " [ 0.29446685  0.12996023  1.          1.         -1.        ]\n",
      " [ 0.29446685  0.12996023  1.          1.         -1.        ]\n",
      " [-0.29446685 -0.12996023 -1.         -1.          1.        ]]\n"
     ]
    }
   ],
   "source": [
    "# Add your code here\n",
    "rows, columns = np.shape(data)\n",
    "r = np.zeros(shape=(columns, columns))\n",
    "for i in range(columns):\n",
    "    for k in range(columns):\n",
    "        r[i,k] = mycorr(data.transpose(), i, k)\n",
    "print(r)    "
   ]
  },
  {
   "cell_type": "markdown",
   "metadata": {
    "pycharm": {
     "name": "#%% md\n"
    }
   },
   "source": [
    "- **(1-6):** Your initial implementation of the formula for $r_{ik}$ will likely use `for` loops if you have not used `numpy` in the past. This is totally fine, and if so, reimplement this function without explicit loops using matrix and vector operators available in `numpy`. Example operators of this kind are shown below:"
   ]
  },
  {
   "cell_type": "code",
   "execution_count": 5,
   "metadata": {
    "pycharm": {
     "name": "#%%\n"
    }
   },
   "outputs": [
    {
     "name": "stdout",
     "output_type": "stream",
     "text": [
      "[-3 -3 -3]\n",
      "32\n"
     ]
    }
   ],
   "source": [
    "import numpy as np\n",
    "\n",
    "# vector subtraction\n",
    "print(np.subtract([1, 2, 3], [4, 5 ,6]))\n",
    "\n",
    "# dot product\n",
    "print(np.dot([1, 2, 3], [4, 5 ,6]))"
   ]
  },
  {
   "cell_type": "markdown",
   "metadata": {
    "pycharm": {
     "name": "#%% md\n"
    }
   },
   "source": [
    "- **(1-7):** You can skip this step if you did not use linear algebra for a long time. If you have successfully implemented all the previous steps, analyse the code that is below. This is a more \"Pythonic\" way of computing a correlation matrix without the use of specialised libraries. It uses the following transformation, which has a convenient, mathematical formulation in matrix notation:\n",
    "    - $X$ - data matrix (rows are data examples)\n",
    "    - $S=X^TX$ - scatter matrix https://en.wikipedia.org/wiki/Scatter_matrix\n",
    "    - $D=\\sqrt{diag(S)}$ - diagonal matrix with square roots of the diagonal elements of $S$ on its diagonal\n",
    "    - $R=D^{-1}SD^{-1}$ the covariance matrix; note that this step does the division since $D^{-1}$ is an inverse of $D$"
   ]
  },
  {
   "cell_type": "code",
   "execution_count": 6,
   "metadata": {
    "pycharm": {
     "name": "#%%\n"
    }
   },
   "outputs": [
    {
     "name": "stdout",
     "output_type": "stream",
     "text": [
      "[[ 1.          0.24698795  0.29446685  0.29446685 -0.29446685]\n",
      " [ 0.24698795  1.          0.12996023  0.12996023 -0.12996023]\n",
      " [ 0.29446685  0.12996023  1.          1.         -1.        ]\n",
      " [ 0.29446685  0.12996023  1.          1.         -1.        ]\n",
      " [-0.29446685 -0.12996023 -1.         -1.          1.        ]]\n"
     ]
    }
   ],
   "source": [
    "data_centred = data-np.average(data, axis=0)\n",
    "# this will give us a numerator of the PCC formula\n",
    "scatter_matrix = np.matmul(np.transpose(data_centred),data_centred)\n",
    "# we will need to divide by the denominator in the PCC formula; we compute those values below\n",
    "Dinv = np.linalg.inv(np.diag(np.sqrt(np.diag(scatter_matrix))))\n",
    "# this multiplication does the division that we see in the PCC formula\n",
    "pearson_r = np.matmul(Dinv,np.matmul(scatter_matrix,Dinv))\n",
    "print(pearson_r)"
   ]
  },
  {
   "cell_type": "markdown",
   "metadata": {
    "collapsed": false,
    "jupyter": {
     "outputs_hidden": false
    },
    "pycharm": {
     "name": "#%% md\n"
    }
   },
   "source": [
    "Another solution that you can see below can be more intuitive to read in  Python."
   ]
  },
  {
   "cell_type": "code",
   "execution_count": 7,
   "metadata": {
    "pycharm": {
     "name": "#%%\n"
    }
   },
   "outputs": [
    {
     "name": "stdout",
     "output_type": "stream",
     "text": [
      "[[ 1.          0.24698795  0.29446685  0.29446685 -0.29446685]\n",
      " [ 0.24698795  1.          0.12996023  0.12996023 -0.12996023]\n",
      " [ 0.29446685  0.12996023  1.          1.         -1.        ]\n",
      " [ 0.29446685  0.12996023  1.          1.         -1.        ]\n",
      " [-0.29446685 -0.12996023 -1.         -1.          1.        ]]\n"
     ]
    }
   ],
   "source": [
    "data_centered = data - np.mean(data, axis=0)\n",
    "# Scatter matrix is covariance multiplied by N\n",
    "scatter_matrix = np.dot(data_centered.T, data_centered)\n",
    "# D is a vector of square roots of the diagonal elements of the scatter matrix. Note that the denominator in the equation for r_ik above, contains the elements of this vector.\n",
    "D = np.sqrt(np.diag(scatter_matrix))\n",
    "# We divide the scatter matrix by the product of the square roots of its diagonal elements.\n",
    "# a[None, :] adds a new axis at the start. a[...,None] adds the new axis at the end.\n",
    "pearson_r = scatter_matrix / (D[:, None] * D[None, :])\n",
    "print(pearson_r)"
   ]
  },
  {
   "cell_type": "markdown",
   "metadata": {
    "pycharm": {
     "name": "#%% md\n"
    }
   },
   "source": [
    "### Question 2 - Simple Hebb Rule\n",
    "\n",
    "A small dataset with 5 features is provided in `data_HL_simple.txt`. It contains a group of correlated features, as well as additional features that are not correlated with any other feature. The full correlation matrix is computed and shown below."
   ]
  },
  {
   "cell_type": "code",
   "execution_count": 8,
   "metadata": {
    "pycharm": {
     "name": "#%%\n"
    }
   },
   "outputs": [
    {
     "data": {
      "image/png": "[encoded data removed]",
      "text/plain": [
       "<Figure size 640x480 with 2 Axes>"
      ]
     },
     "metadata": {},
     "output_type": "display_data"
    }
   ],
   "source": [
    "import pandas as pd\n",
    "import seaborn as sn\n",
    "import matplotlib.pyplot as plt\n",
    "\n",
    "# load the data from the text file\n",
    "data = np.loadtxt('data_HL_simple.txt', usecols=range(5))\n",
    "# print(\"original data\")\n",
    "# print(data[1:5,:])\n",
    "\n",
    "# correlation matrix in pandas and the heatmap\n",
    "df = pd.DataFrame(data)\n",
    "corrMatrix = df.corr()\n",
    "sn.heatmap(corrMatrix, annot=True)\n",
    "plt.show()"
   ]
  },
  {
   "cell_type": "markdown",
   "metadata": {
    "pycharm": {
     "name": "#%% md\n"
    }
   },
   "source": [
    "Your task is to implement the simple Hebbian learning rule and run it to learn the strongest correlational pattern for the dataset that is provided. A template for your implementation is bellow."
   ]
  },
  {
   "cell_type": "code",
   "execution_count": 9,
   "metadata": {
    "pycharm": {
     "name": "#%%\n"
    }
   },
   "outputs": [
    {
     "name": "stdout",
     "output_type": "stream",
     "text": [
      "[[-1.  0. -1. -1.  1.]\n",
      " [-1. -1. -1. -1.  1.]\n",
      " [ 1.  0.  1.  1. -1.]\n",
      " [ 0. -1.  0.  0.  0.]]\n",
      "initial weights\n",
      "[-0.3134406   0.51957759  0.36746936  0.83340196  0.7921544 ]\n",
      "\tCurrent input: [0. 0. 0. 0. 0.]\n",
      "New Weights:\n",
      "[-0.3032543   0.54111301  0.39622055  0.86215315  0.76340321]\n",
      "\tCurrent input: [-1.  0. -1. -1.  1.]\n",
      "New Weights:\n",
      "[-0.29662046  0.56238811  0.42156732  0.88749992  0.73805644]\n",
      "\tCurrent input: [0. 1. 0. 0. 0.]\n",
      "New Weights:\n",
      "[-0.29422098  0.57913853  0.44545628  0.91138889  0.71416748]\n",
      "\tCurrent input: [ 0.  0.  1.  1. -1.]\n",
      "New Weights:\n",
      "[-0.32045243  0.60625697  0.504366    0.97029861  0.65525776]\n",
      "\tCurrent input: [ 1.  1.  1.  1. -1.]\n",
      "New Weights:\n",
      "[-0.30771107  0.63123875  0.55357384  1.01950644  0.60604992]\n",
      "\tCurrent input: [0. 0. 0. 0. 0.]\n",
      "New Weights:\n",
      "[-0.2716539   0.66904183  0.6282284   1.094161    0.53139536]\n",
      "\tCurrent input: [-1.  0. -1. -1.  1.]\n",
      "New Weights:\n",
      "[-0.24528805  0.70425739  0.6925046   1.15843721  0.46711915]\n",
      "\tCurrent input: [0. 1. 0. 0. 0.]\n",
      "New Weights:\n",
      "[-0.23844792  0.72784594  0.75039858  1.21633119  0.40922518]\n",
      "\tCurrent input: [ 0.  0.  1.  1. -1.]\n",
      "New Weights:\n",
      "[-0.27544787  0.76844475  0.88052381  1.34645642  0.27909995]\n",
      "\tCurrent input: [ 1.  1.  1.  1. -1.]\n",
      "New Weights:\n",
      "[-0.23155856  0.79219216  1.01493435  1.48086695  0.14468941]\n",
      "\tCurrent input: [0. 0. 0. 0. 0.]\n",
      "New Weights:\n",
      "[-0.12998897  0.86751254  1.20367124  1.66960385 -0.04404748]\n",
      "\tCurrent input: [-1.  0. -1. -1.  1.]\n",
      "New Weights:\n",
      "[-0.05389672  0.93383037  1.36463833  1.83057093 -0.20501457]\n",
      "\tCurrent input: [0. 1. 0. 0. 0.]\n",
      "New Weights:\n",
      "[-0.03657754  0.97072769  1.50689101  1.97282361 -0.34726725]\n",
      "\tCurrent input: [ 0.  0.  1.  1. -1.]\n",
      "New Weights:\n",
      "[-0.09634244  1.04032747  1.81157352  2.27750612 -0.65194976]\n",
      "\tCurrent input: [ 1.  1.  1.  1. -1.]\n",
      "New Weights:\n",
      "[ 0.02621396  1.05387569  2.15972634  2.62565894 -1.00010258]\n",
      "\tCurrent input: [0. 0. 0. 0. 0.]\n",
      "New Weights:\n",
      "[ 0.29177486  1.21889118  2.63166283  3.09759543 -1.47203907]\n",
      "\tCurrent input: [-1.  0. -1. -1.  1.]\n",
      "New Weights:\n",
      "[ 0.49194412  1.35816128  3.03262889  3.49856149 -1.87300513]\n",
      "\tCurrent input: [0. 1. 0. 0. 0.]\n",
      "New Weights:\n",
      "[ 0.53447175  1.4236357   3.38422908  3.85016169 -2.22460532]\n",
      "\tCurrent input: [ 0.  0.  1.  1. -1.]\n",
      "New Weights:\n",
      "[ 0.42268934  1.55997874  4.11964111  4.58557371 -2.96001735]\n",
      "\tCurrent input: [ 1.  1.  1.  1. -1.]\n",
      "New Weights:\n",
      "[ 0.74190497  1.5396716   5.00094813  5.46688073 -3.84132437]\n",
      "\tCurrent input: [0. 0. 0. 0. 0.]\n",
      "New Weights:\n",
      "[ 1.41592482  1.92318968  6.17562964  6.64156225 -5.01600589]\n",
      "\tCurrent input: [-1.  0. -1. -1.  1.]\n",
      "New Weights:\n",
      "[ 1.9245225   2.23835828  7.17215932  7.63809193 -6.01253556]\n",
      "\tCurrent input: [0. 1. 0. 0. 0.]\n",
      "New Weights:\n",
      "[ 2.02847082  2.36933026  8.04330705  8.50923966 -6.88368329]\n",
      "\tCurrent input: [ 0.  0.  1.  1. -1.]\n",
      "New Weights:\n",
      "[ 1.79265598  2.6651581   9.84482047 10.31075307 -8.68519671]\n",
      "\tCurrent input: [ 1.  1.  1.  1. -1.]\n",
      "New Weights:\n",
      "[  2.60136725   2.55058983  12.05240312  12.51833572 -10.89277936]\n",
      "\tCurrent input: [0. 0. 0. 0. 0.]\n",
      "New Weights:\n",
      "[  4.29054445   3.4714222   14.97072175  15.43665436 -13.81109799]\n",
      "\tCurrent input: [-1.  0. -1. -1.  1.]\n",
      "New Weights:\n",
      "[  5.56478483   4.21683354  17.44503718  17.91096978 -16.28541342]\n",
      "\tCurrent input: [0. 1. 0. 0. 0.]\n",
      "New Weights:\n",
      "[  5.81956579   4.50372976  19.60552158  20.07145419 -18.44589782]\n",
      "\tCurrent input: [ 0.  0.  1.  1. -1.]\n",
      "New Weights:\n",
      "[  5.28165506   5.18808711  24.04939881  24.51533141 -22.88977505]\n",
      "\tCurrent input: [ 1.  1.  1.  1. -1.]\n",
      "New Weights:\n",
      "[  7.30650711   4.82730408  29.55191226  30.01784487 -28.3922885 ]\n",
      "[  7.30650711   4.82730408  29.55191226  30.01784487 -28.3922885 ]\n"
     ]
    }
   ],
   "source": [
    "import numpy as np\n",
    "\n",
    "# load data from the text file\n",
    "data = np.loadtxt('data_HL_simple.txt', usecols=range(5))\n",
    "print(data[1:5,:])\n",
    "\n",
    "# we need a vector of 5 parameters\n",
    "w = np.random.normal(0, 0.5, 5)\n",
    "\n",
    "print(\"initial weights\")\n",
    "print(w)\n",
    "\n",
    "# learning rate; don't change the learning rate epsilon when you are working on questions 2 and 3, unless you really know what you are doing. You may want to make the learning rate dependent on the epoch number to converge to a stable solution.\n",
    "epsilon = 0.01\n",
    "\n",
    "num_iterations = 6\n",
    "\n",
    "update = 0\n",
    "# we can do a fixed number of iterations because the simple Hebb rule won't converge\n",
    "for i in range(num_iterations):\n",
    "    for x in data:\n",
    "\n",
    "        # TODO: add your code here; note that \"epsilon\"\n",
    "        # is defined above and it should be used here;\n",
    "        # don't change its default value in this question.\n",
    "\n",
    "        y = np.dot(x,w)\n",
    "        delta_w = epsilon*y*x\n",
    "\n",
    "        w = w+delta_w\n",
    "        \n",
    "        update = update + 1\n",
    "        if update % 10 == 0:\n",
    "            # print every 10th update\n",
    "            print(\"\\tCurrent input: \" + str(x))\n",
    "            # print the weights for every x to see how they are evolving\n",
    "            print(\"New Weights:\\n\" + str(w))\n",
    "\n",
    "# the final weights\n",
    "print(w)\n"
   ]
  },
  {
   "cell_type": "markdown",
   "metadata": {
    "pycharm": {
     "name": "#%% md\n"
    }
   },
   "source": [
    "Do the following explorations using the above code.\n",
    "- **(2-1):** Open the data file `data_HL_simple.txt` in your text editor, and try to identify correlations present in these data.\n",
    "- **(2-2):** Inspect the correlation matrix shown in the figure above, and identify features that have positive and negative correlation. Can you guess which correlational pattern will be learned by Hebbian learning when you run it on these data?\n",
    "- **(2-3):** Implement the simple Hebb rule using the Python block above (there is very little coding required to complete the implementation).\n",
    "- **(2-4):** Run your implementation of the Hebb rule on `data_HL_simple.txt`, and inspect the weights $w$ after every step of the algorithm. Identify the correlational pattern that the algorithm discovers. Are there any positively or negatively correlated features in these data according to the pattern seen in $w$?\n",
    "- **(2-5):** After investigating the weights $w$, run the algorithm for a few hundred iterations (see the variable $i$ in the code) and investigate what happens to the weights. Do you see any connections with the material presented in lectures?"
   ]
  },
  {
   "cell_type": "markdown",
   "metadata": {},
   "source": [
    "### Question 3 - Oja's Rule\n",
    "\n",
    "In this section, we will use a different dataset that is in `data_two_groups.txt`. It contains five features, and its correlation matrix is shown below."
   ]
  },
  {
   "cell_type": "code",
   "execution_count": 10,
   "metadata": {
    "pycharm": {
     "name": "#%%\n"
    }
   },
   "outputs": [
    {
     "data": {
      "image/png": "[encoded data removed]",
      "text/plain": [
       "<Figure size 640x480 with 2 Axes>"
      ]
     },
     "metadata": {},
     "output_type": "display_data"
    }
   ],
   "source": [
    "# load the new dataset\n",
    "data = np.loadtxt('data_two_groups.txt', usecols=range(5))\n",
    "\n",
    "# correlation matrix in pandas and the heatmap\n",
    "df = pd.DataFrame(data)\n",
    "corrMatrix = df.corr()\n",
    "sn.heatmap(corrMatrix, annot=True)\n",
    "plt.show()"
   ]
  },
  {
   "cell_type": "markdown",
   "metadata": {
    "pycharm": {
     "name": "#%% md\n"
    }
   },
   "source": [
    "The last three features are strongly correlated in this dataset, whereas the first two features are not correlated with any features. A 3D view of the data is shown below.\n",
    "\n",
    "<figure>\n",
    "<img src=\"two_groups_in3D_f2_3_4.png\" alt=\"3D figure\" class=\"bg-primary mb-1\" width=\"600px\">\n",
    "<figcaption align = \"center\"><b>Fig. 1:</b> A 3D visualisation of <code>data_two_groups.txt</code> when only the last three features are used. Note that the first two features are uncorrelated with the other features.</figcaption>\n",
    "</figure>\n",
    "\n",
    "In this question, you will implement Oja's rule to find a one-dimensional representation of these data, i.e., you will reduce the dimensionality of the data from five dimensions to one dimension. You are encouraged to follow these steps:\n",
    "\n",
    "- **(3-1):** Analyse the correlation matrix that is presented above. Can you see which features are strongly correlated? What can you say about the group of correlated features? Do we need all the features in the group to represent most of the information that they encode?\n",
    "- **(3-2):** Now include Fig. 1 in your analysis. Inspect this figure, and try to find the `most important direction`, i.e., the direction that carries the largest amount of variance.\n",
    "- **(3-3):** Read the Python block below, run it, and then analyse the image that is produced. The image represents the original data after compressing it to one dimension using the standard implementation of PCA in `sklearn`. Contrast this figure with Fig. 1 above. How is the horizontal axis in the 1D visualisation related to the 3D plot in Fig. 1? There is a clear relationship, and you should be able to identify it."
   ]
  },
  {
   "cell_type": "code",
   "execution_count": 13,
   "metadata": {
    "pycharm": {
     "name": "#%%\n"
    }
   },
   "outputs": [
    {
     "name": "stdout",
     "output_type": "stream",
     "text": [
      "original data\n",
      "[[ 1.15970113e-02  7.04409380e-01  2.52592430e+00  2.52592430e+00\n",
      "   4.81181618e+00]\n",
      " [-2.07523136e-01 -3.67737727e-01  1.22059844e+00  5.50488774e-01\n",
      "   1.88427215e+00]\n",
      " [-1.57125555e+00  1.32390861e+00 -1.47812951e+00 -1.43172722e+00\n",
      "  -3.19127369e+00]\n",
      " [-8.22905621e-01  2.27103446e+00 -2.12484964e+00 -2.12484964e+00\n",
      "  -4.13049738e+00]\n",
      " [ 9.70277635e-01  9.13368651e-01 -3.52387133e+00 -3.22573866e+00\n",
      "  -6.63143683e+00]\n",
      " [-1.99767860e+00 -2.78435880e+00 -1.43481397e+00 -1.43481397e+00\n",
      "  -2.83144180e+00]\n",
      " [ 1.86053078e-01  1.14523511e+00  1.83644938e+00  1.83644938e+00\n",
      "   3.69732649e+00]\n",
      " [ 2.46378663e+00  4.58459335e-01  2.44081247e+00  2.44081247e+00\n",
      "   4.85786203e+00]\n",
      " [ 7.82371225e-01  1.04699156e+00 -1.50115280e+00 -1.50115280e+00\n",
      "  -3.12595173e+00]\n",
      " [-1.42258423e-01  9.20445234e-01 -1.62046158e+00 -1.62046158e+00\n",
      "  -3.44263005e+00]\n",
      " [-1.49476376e+00  1.21434406e+00 -1.27598364e+00 -1.72432930e+00\n",
      "  -2.69602366e+00]\n",
      " [-2.14380466e-02 -2.24415235e-03  3.22637550e+00  3.22637550e+00\n",
      "   6.70089720e+00]\n",
      " [-3.66830400e-01  9.03558428e-01 -1.54713394e+00 -1.54713394e+00\n",
      "  -2.96213869e+00]\n",
      " [-2.82647263e-02 -1.69162830e+00  2.08886770e+00  2.08886770e+00\n",
      "   4.60438007e+00]\n",
      " [ 1.92293175e-01  1.56871467e+00  2.91105116e+00  3.08954440e+00\n",
      "   5.92886056e+00]\n",
      " [-5.61803052e-01 -4.10681705e-01  1.83085568e+00  2.41536129e+00\n",
      "   4.28472895e+00]\n",
      " [ 6.35752069e-01 -8.52126014e-01 -2.41761315e+00 -2.41761315e+00\n",
      "  -4.99618656e+00]\n",
      " [-1.46864445e-01 -1.36562978e+00  4.47086985e+00  1.31068245e+00\n",
      "   5.47760428e+00]\n",
      " [-7.95920303e-01  1.40900170e-01  2.81274867e+00  2.81274867e+00\n",
      "   5.99500921e+00]\n",
      " [ 1.04787451e+00 -1.83194378e-01  8.28606304e-01  2.55352384e+00\n",
      "   3.10636035e+00]\n",
      " [-5.80192294e-01  1.36292203e+00  1.19390340e+00  1.19390340e+00\n",
      "   2.67491908e+00]\n",
      " [-6.85216900e-02  6.60838262e-01  1.96709330e+00  1.96709330e+00\n",
      "   3.90313058e+00]\n",
      " [ 4.92270507e-01  4.06150405e-01  9.67955884e-01  9.67955884e-01\n",
      "   2.13006754e+00]\n",
      " [-1.29987206e+00  1.89147680e-01  2.73735343e+00  2.73735343e+00\n",
      "   5.79051016e+00]\n",
      " [ 5.10754743e-01  7.84109646e-02 -2.29000632e+00 -2.74694444e+00\n",
      "  -5.10371589e+00]\n",
      " [-1.62031668e-01 -2.70922015e-01  2.00589330e+00  2.00589330e+00\n",
      "   3.78600459e+00]\n",
      " [ 9.68690621e-01  2.35503663e-01  9.89225970e-01  2.54063271e+00\n",
      "   3.77743478e+00]\n",
      " [-1.48280270e-01 -1.17430907e-01  2.97561590e+00  2.97561590e+00\n",
      "   5.95912249e+00]\n",
      " [-2.00651668e+00 -6.57858970e-01 -2.17522278e+00 -2.17522278e+00\n",
      "  -4.42002493e+00]\n",
      " [-6.49915663e-01  5.68221234e-01  4.02756301e+00  4.02756301e+00\n",
      "   8.35542888e+00]\n",
      " [-3.71658540e-01 -7.36143487e-01  8.93206224e-01  2.03526994e+00\n",
      "   3.06245673e+00]\n",
      " [-1.98450015e+00 -2.86523285e-01  2.10190381e+00  2.10190381e+00\n",
      "   3.95028973e+00]\n",
      " [-3.81017121e-01 -4.73607320e-01 -2.92971169e+00 -1.82770498e+00\n",
      "  -4.54367448e+00]\n",
      " [-4.82318684e-02  9.81431562e-02  2.45047573e+00  2.51251826e+00\n",
      "   4.90867835e+00]\n",
      " [ 7.77088756e-01  9.81041405e-01  2.36801637e+00  2.36801637e+00\n",
      "   4.44229768e+00]\n",
      " [-3.25889586e-01  1.57889939e-01 -1.54752564e+00 -1.54752564e+00\n",
      "  -3.15808128e+00]\n",
      " [ 1.86665842e-02  9.28497713e-01  1.81436094e+00  1.81436094e+00\n",
      "   3.59828700e+00]\n",
      " [-1.24813352e-01 -6.85522582e-01  1.71347077e+00  1.71347077e+00\n",
      "   3.57325660e+00]\n",
      " [ 1.31654997e-01 -5.17173629e-01  1.86893372e+00  2.52392351e+00\n",
      "   4.59739870e+00]\n",
      " [ 1.17858979e+00 -6.21155213e-01  2.18768608e+00  2.18768608e+00\n",
      "   4.23762284e+00]\n",
      " [-2.11271061e-01  2.73194830e-01  2.48590062e+00  2.48590062e+00\n",
      "   5.06267021e+00]\n",
      " [-1.48518427e+00 -8.35280324e-01 -2.02011265e+00 -2.02011265e+00\n",
      "  -3.70432273e+00]\n",
      " [ 1.68624842e+00 -8.82805929e-01 -2.17750965e+00 -1.43677203e+00\n",
      "  -3.66398075e+00]\n",
      " [-1.05034426e+00 -1.48550277e+00 -1.80036242e+00 -3.40596621e+00\n",
      "  -5.42802470e+00]\n",
      " [-8.39105156e-01 -1.09080310e+00  2.05118581e+00  9.18046250e-01\n",
      "   2.93088368e+00]\n",
      " [ 4.79611263e-01  4.77321011e-01  1.38832516e+00  1.38832516e+00\n",
      "   2.80240753e+00]\n",
      " [-9.62691378e-01  2.89058449e-02 -3.00414647e+00 -1.92361006e+00\n",
      "  -4.57374178e+00]\n",
      " [ 4.53432399e-01 -9.33068244e-01  1.79427546e+00  3.04740288e+00\n",
      "   4.85430409e+00]\n",
      " [ 8.36848485e-02 -2.17193620e-01 -2.78583122e+00 -1.04292332e+00\n",
      "  -4.04662148e+00]\n",
      " [ 4.32919651e-01 -1.92305982e+00  2.43448814e+00  2.44039988e+00\n",
      "   5.12922510e+00]\n",
      " [-6.18831144e-01  1.08496353e+00  1.44242343e+00  2.61211360e+00\n",
      "   3.97145351e+00]\n",
      " [-1.12496185e+00  2.65763785e+00  1.96487459e+00  2.36767916e+00\n",
      "   4.33701220e+00]\n",
      " [-5.90406195e-02 -1.06787889e+00 -8.87598975e-01 -8.87598975e-01\n",
      "  -1.67150361e+00]\n",
      " [ 2.09911710e-01  7.67444389e-01  1.60337029e+00  1.60337029e+00\n",
      "   3.10147887e+00]\n",
      " [-8.65818974e-02 -2.29728758e-02 -1.69089785e+00 -1.25669694e+00\n",
      "  -2.92850676e+00]\n",
      " [-8.29752567e-01  5.91003882e-01 -2.82610314e+00 -2.82610314e+00\n",
      "  -5.66693764e+00]\n",
      " [ 1.53059301e-01 -6.43981917e-01 -1.98953361e+00 -2.20526064e+00\n",
      "  -3.82339114e+00]\n",
      " [-1.10534066e+00 -2.26013503e-02  3.39525551e-01  1.41812333e+00\n",
      "   1.55429176e+00]\n",
      " [ 7.73541464e-01  9.31759008e-01 -1.79116326e+00 -1.31015544e+00\n",
      "  -3.16611027e+00]\n",
      " [ 1.00493675e+00 -4.50957890e-01  1.27932744e+00  1.27932744e+00\n",
      "   2.74903112e+00]\n",
      " [-6.43367486e-01 -5.94167268e-01  1.73310363e+00  2.61901955e+00\n",
      "   4.03787105e+00]\n",
      " [-1.41544935e+00  2.03891252e-01 -2.48927881e+00 -2.21726378e+00\n",
      "  -4.80295385e+00]\n",
      " [ 3.44993703e-01 -6.15930492e-01  1.56995972e+00  1.56995972e+00\n",
      "   3.06144775e+00]\n",
      " [ 1.48813395e-01  1.76979802e+00 -2.87344405e+00 -1.98157268e+00\n",
      "  -4.73516970e+00]\n",
      " [ 9.09056713e-01  4.53409157e-01  1.44943342e+00  1.44943342e+00\n",
      "   2.82364849e+00]\n",
      " [ 1.67775028e-01 -1.62381753e+00 -2.24226125e+00 -2.34719462e+00\n",
      "  -4.50667017e+00]\n",
      " [ 1.70385359e+00  2.42042036e-03 -2.79166900e+00 -2.12962263e+00\n",
      "  -4.77163543e+00]\n",
      " [ 2.06509740e+00 -1.84100464e-03 -1.39003583e+00 -1.95253978e+00\n",
      "  -3.33744776e+00]\n",
      " [-9.36805888e-01  1.05041697e-02 -2.37706266e+00 -2.37706266e+00\n",
      "  -4.73972263e+00]\n",
      " [ 9.10220502e-01 -2.05750114e+00 -2.51038077e+00 -2.51038077e+00\n",
      "  -4.85513938e+00]\n",
      " [ 2.43160645e-01  7.70675076e-01  2.22466488e+00  2.22466488e+00\n",
      "   4.35613039e+00]\n",
      " [-5.53877149e-01 -8.86640189e-01 -2.17014092e+00 -2.17014092e+00\n",
      "  -4.22487184e+00]\n",
      " [ 1.08254297e+00  6.05069268e-01 -1.67213100e+00 -2.01386836e+00\n",
      "  -3.75209612e+00]\n",
      " [ 3.15026964e-01 -8.38302068e-01  1.68744833e+00  2.48299931e+00\n",
      "   4.17560586e+00]\n",
      " [ 4.38324665e-01  2.42834353e-01  1.63347729e+00  1.63347729e+00\n",
      "   3.49295174e+00]\n",
      " [-2.43979174e-01 -7.50303137e-01 -2.52368698e+00 -2.52368698e+00\n",
      "  -4.65171296e+00]\n",
      " [ 5.34065863e-01 -8.91700801e-01 -1.59176938e+00 -1.59176938e+00\n",
      "  -3.00625240e+00]\n",
      " [-1.33432601e-01  5.62627126e-01 -2.66976879e+00 -2.66976879e+00\n",
      "  -5.32246552e+00]\n",
      " [-1.77371071e+00  2.37708364e-01  7.26532142e-01  7.26532142e-01\n",
      "   1.34996351e+00]\n",
      " [ 1.21952826e+00 -1.10204926e+00 -1.41856678e+00 -3.20466734e+00\n",
      "  -4.61156575e+00]\n",
      " [-1.66000933e+00 -1.81187527e-02 -2.35520785e+00 -2.35520785e+00\n",
      "  -4.76161484e+00]\n",
      " [-1.18998558e+00 -1.19282449e+00 -9.02378525e-01 -2.13348700e+00\n",
      "  -2.87158189e+00]\n",
      " [-1.01786986e+00 -5.99005554e-01  2.14176842e+00  2.14176842e+00\n",
      "   4.20996523e+00]\n",
      " [ 2.83303302e+00  1.97161673e+00  2.29729460e+00  2.38290976e+00\n",
      "   4.69132353e+00]\n",
      " [ 1.06038707e+00 -7.80425958e-01 -1.51795020e+00 -1.51795020e+00\n",
      "  -3.32357852e+00]\n",
      " [-6.83599585e-02  8.54590871e-02 -1.44793437e+00 -1.44793437e+00\n",
      "  -2.78740310e+00]\n",
      " [-7.08507924e-01 -8.64476957e-01  2.04640465e+00  2.04640465e+00\n",
      "   3.93805387e+00]\n",
      " [-3.49174443e-01 -1.79890094e-01 -2.60901673e+00 -4.48187866e-01\n",
      "  -3.04258593e+00]\n",
      " [-2.06452840e+00  2.88159775e-01 -5.68195160e-01 -5.68195160e-01\n",
      "  -9.69917237e-01]\n",
      " [ 3.12829458e-01  2.68337984e-01  2.86240436e+00  2.86240436e+00\n",
      "   5.55783425e+00]\n",
      " [ 2.04707440e+00 -1.33433314e-01  1.59057408e+00  3.05697925e+00\n",
      "   4.76933508e+00]\n",
      " [-1.52115171e+00 -1.61216752e-01  3.27955106e+00  2.69666985e+00\n",
      "   5.92365613e+00]\n",
      " [ 1.85350186e+00  8.92762379e-01  1.49975645e+00  1.49975645e+00\n",
      "   2.80756940e+00]\n",
      " [-1.76756055e-01 -6.45528757e-01 -2.24301567e+00 -2.09509793e+00\n",
      "  -4.47132075e+00]\n",
      " [-3.63064473e-01 -3.01848301e-01  1.10994271e+00  1.10994271e+00\n",
      "   2.36498277e+00]\n",
      " [-1.74342660e-01 -1.68500359e-01 -1.78831861e+00 -1.78831861e+00\n",
      "  -3.85200519e+00]\n",
      " [ 3.72263766e-01  9.97635446e-01 -2.41671395e+00 -1.29758509e+00\n",
      "  -3.69514853e+00]\n",
      " [ 5.87231842e-01 -7.39386081e-01  1.72227868e+00  2.86485452e+00\n",
      "   4.39817708e+00]\n",
      " [ 1.67877244e-01 -2.22345066e-01 -1.65431928e+00 -1.65431928e+00\n",
      "  -2.98760993e+00]\n",
      " [ 2.24960505e-01 -2.13872179e+00 -1.74648565e+00 -1.74648565e+00\n",
      "  -3.80626361e+00]]\n",
      "all principal components:\n",
      "[[0.01640681 0.02155885 0.40640946 0.4106701  0.81574963]]\n"
     ]
    },
    {
     "data": {
      "image/png": "[encoded data removed]",
      "text/plain": [
       "<Figure size 640x480 with 1 Axes>"
      ]
     },
     "metadata": {},
     "output_type": "display_data"
    }
   ],
   "source": [
    "import numpy as np\n",
    "import matplotlib.pyplot as plt\n",
    "from sklearn.decomposition import PCA\n",
    "\n",
    "# load data from the text file\n",
    "data = np.loadtxt('data_two_groups.txt', usecols=range(5))\n",
    "print(\"original data\")\n",
    "print(data)\n",
    "\n",
    "# do PCA and show the data in 1D\n",
    "plt.figure(1)\n",
    "pca = PCA(n_components=1)\n",
    "# fit the model parameters\n",
    "pca.fit(data)\n",
    "print(\"all principal components:\")\n",
    "print(pca.components_)\n",
    "# project the data to the new dimension\n",
    "data_pca = pca.transform(data)\n",
    "# a vector of zeros for the scatter plot\n",
    "yaxis = np.zeros(data_pca.shape[0])\n",
    "plt.scatter(data_pca[:,0], yaxis)\n",
    "plt.show()  "
   ]
  },
  {
   "cell_type": "markdown",
   "metadata": {},
   "source": [
    "- **(3-4):** The next step requires coding. Extend the code that implements simple Hebbian learning above and implement Oja's rule to learn one principal component for these data. We are interested in exactly one principal component in this exercise. Your implementation of Oja's rule should appear in the Python block below."
   ]
  },
  {
   "cell_type": "code",
   "execution_count": 15,
   "metadata": {
    "pycharm": {
     "name": "#%%\n"
    }
   },
   "outputs": [
    {
     "name": "stdout",
     "output_type": "stream",
     "text": [
      "[[-0.20752314 -0.36773773  1.22059844  0.55048877  1.88427215]\n",
      " [-1.57125555  1.32390861 -1.47812951 -1.43172722 -3.19127369]\n",
      " [-0.82290562  2.27103446 -2.12484964 -2.12484964 -4.13049738]\n",
      " [ 0.97027764  0.91336865 -3.52387133 -3.22573866 -6.63143683]]\n",
      "initial weights\n",
      "[ 0.58278264  0.81199177 -0.2776675   0.19168174  0.11010464]\n",
      "\tCurrent input: [-0.14225842  0.92044523 -1.62046158 -1.62046158 -3.44263005]\n",
      "New Weights:\n",
      "[ 0.585703    0.75253676 -0.078863    0.2842234   0.35582849]\n",
      "\tCurrent input: [ 1.04787451 -0.18319438  0.8286063   2.55352384  3.10636035]\n",
      "New Weights:\n",
      "[0.00720836 0.02547086 0.39726686 0.41145611 0.82499475]\n",
      "\tCurrent input: [-0.64991566  0.56822123  4.02756301  4.02756301  8.35542888]\n",
      "New Weights:\n",
      "[-0.0672849   0.0566912   0.3992979   0.39876036  0.8281793 ]\n",
      "\tCurrent input: [ 1.17858979 -0.62115521  2.18768608  2.18768608  4.23762284]\n",
      "New Weights:\n",
      "[ 0.07010977 -0.03317947  0.3978124   0.41983504  0.81611862]\n",
      "\tCurrent input: [ 0.43291965 -1.92305982  2.43448814  2.44039988  5.1292251 ]\n",
      "New Weights:\n",
      "[ 0.06397719 -0.12108701  0.41542342  0.38823744  0.82164638]\n",
      "\tCurrent input: [ 1.00493675 -0.45095789  1.27932744  1.27932744  2.74903112]\n",
      "New Weights:\n",
      "[ 0.01068021 -0.01093748  0.40629501  0.41871959  0.81746748]\n",
      "\tCurrent input: [ 0.9102205  -2.05750114 -2.51038077 -2.51038077 -4.85513938]\n",
      "New Weights:\n",
      "[-0.08678228  0.12743402  0.41752216  0.40939691  0.80970383]\n",
      "\tCurrent input: [ 1.21952826 -1.10204926 -1.41856678 -3.20466734 -4.61156575]\n",
      "New Weights:\n",
      "[-0.0877217   0.07554782  0.35574569  0.46667177  0.81021973]\n",
      "\tCurrent input: [0.31282946 0.26833798 2.86240436 2.86240436 5.55783425]\n",
      "New Weights:\n",
      "[0.05950772 0.04580192 0.42563765 0.39955128 0.80922673]\n",
      "\tCurrent input: [ 0.2249605  -2.13872179 -1.74648565 -1.74648565 -3.80626361]\n",
      "New Weights:\n",
      "[0.01013898 0.06948741 0.40159127 0.41706502 0.82141671]\n",
      "\tCurrent input: [-0.14225842  0.92044523 -1.62046158 -1.62046158 -3.44263005]\n",
      "New Weights:\n",
      "[ 0.0998458  -0.0304824   0.41120146  0.40271576  0.82136604]\n",
      "\tCurrent input: [ 1.04787451 -0.18319438  0.8286063   2.55352384  3.10636035]\n",
      "New Weights:\n",
      "[-0.02391611 -0.02233882  0.41544157  0.39961639  0.82301375]\n",
      "\tCurrent input: [-0.64991566  0.56822123  4.02756301  4.02756301  8.35542888]\n",
      "New Weights:\n",
      "[-0.06731855  0.05672696  0.39918617  0.39865821  0.8279745 ]\n",
      "\tCurrent input: [ 1.17858979 -0.62115521  2.18768608  2.18768608  4.23762284]\n",
      "New Weights:\n",
      "[ 0.07010676 -0.0331765   0.39781175  0.41983514  0.81611924]\n",
      "\tCurrent input: [ 0.43291965 -1.92305982  2.43448814  2.44039988  5.1292251 ]\n",
      "New Weights:\n",
      "[ 0.06397708 -0.1210869   0.41542341  0.38823745  0.82164642]\n",
      "\tCurrent input: [ 1.00493675 -0.45095789  1.27932744  1.27932744  2.74903112]\n",
      "New Weights:\n",
      "[ 0.01068019 -0.01093746  0.40629501  0.41871959  0.81746748]\n",
      "\tCurrent input: [ 0.9102205  -2.05750114 -2.51038077 -2.51038077 -4.85513938]\n",
      "New Weights:\n",
      "[-0.08678228  0.12743403  0.41752216  0.40939691  0.80970383]\n",
      "\tCurrent input: [ 1.21952826 -1.10204926 -1.41856678 -3.20466734 -4.61156575]\n",
      "New Weights:\n",
      "[-0.0877217   0.07554782  0.35574569  0.46667177  0.81021973]\n",
      "\tCurrent input: [0.31282946 0.26833798 2.86240436 2.86240436 5.55783425]\n",
      "New Weights:\n",
      "[0.05950772 0.04580192 0.42563765 0.39955128 0.80922673]\n",
      "\tCurrent input: [ 0.2249605  -2.13872179 -1.74648565 -1.74648565 -3.80626361]\n",
      "New Weights:\n",
      "[0.01013898 0.06948741 0.40159127 0.41706502 0.82141671]\n",
      "\tCurrent input: [-0.14225842  0.92044523 -1.62046158 -1.62046158 -3.44263005]\n",
      "New Weights:\n",
      "[ 0.0998458  -0.0304824   0.41120146  0.40271576  0.82136604]\n",
      "\tCurrent input: [ 1.04787451 -0.18319438  0.8286063   2.55352384  3.10636035]\n",
      "New Weights:\n",
      "[-0.02391611 -0.02233882  0.41544157  0.39961639  0.82301375]\n",
      "\tCurrent input: [-0.64991566  0.56822123  4.02756301  4.02756301  8.35542888]\n",
      "New Weights:\n",
      "[-0.06731855  0.05672696  0.39918617  0.39865821  0.8279745 ]\n",
      "\tCurrent input: [ 1.17858979 -0.62115521  2.18768608  2.18768608  4.23762284]\n",
      "New Weights:\n",
      "[ 0.07010676 -0.0331765   0.39781175  0.41983514  0.81611924]\n",
      "\tCurrent input: [ 0.43291965 -1.92305982  2.43448814  2.44039988  5.1292251 ]\n",
      "New Weights:\n",
      "[ 0.06397708 -0.1210869   0.41542341  0.38823745  0.82164642]\n",
      "\tCurrent input: [ 1.00493675 -0.45095789  1.27932744  1.27932744  2.74903112]\n",
      "New Weights:\n",
      "[ 0.01068019 -0.01093746  0.40629501  0.41871959  0.81746748]\n",
      "\tCurrent input: [ 0.9102205  -2.05750114 -2.51038077 -2.51038077 -4.85513938]\n",
      "New Weights:\n",
      "[-0.08678228  0.12743403  0.41752216  0.40939691  0.80970383]\n",
      "\tCurrent input: [ 1.21952826 -1.10204926 -1.41856678 -3.20466734 -4.61156575]\n",
      "New Weights:\n",
      "[-0.0877217   0.07554782  0.35574569  0.46667177  0.81021973]\n",
      "\tCurrent input: [0.31282946 0.26833798 2.86240436 2.86240436 5.55783425]\n",
      "New Weights:\n",
      "[0.05950772 0.04580192 0.42563765 0.39955128 0.80922673]\n",
      "\tCurrent input: [ 0.2249605  -2.13872179 -1.74648565 -1.74648565 -3.80626361]\n",
      "New Weights:\n",
      "[0.01013898 0.06948741 0.40159127 0.41706502 0.82141671]\n",
      "\tCurrent input: [-0.14225842  0.92044523 -1.62046158 -1.62046158 -3.44263005]\n",
      "New Weights:\n",
      "[ 0.0998458  -0.0304824   0.41120146  0.40271576  0.82136604]\n",
      "\tCurrent input: [ 1.04787451 -0.18319438  0.8286063   2.55352384  3.10636035]\n",
      "New Weights:\n",
      "[-0.02391611 -0.02233882  0.41544157  0.39961639  0.82301375]\n",
      "\tCurrent input: [-0.64991566  0.56822123  4.02756301  4.02756301  8.35542888]\n",
      "New Weights:\n",
      "[-0.06731855  0.05672696  0.39918617  0.39865821  0.8279745 ]\n",
      "\tCurrent input: [ 1.17858979 -0.62115521  2.18768608  2.18768608  4.23762284]\n",
      "New Weights:\n",
      "[ 0.07010676 -0.0331765   0.39781175  0.41983514  0.81611924]\n",
      "\tCurrent input: [ 0.43291965 -1.92305982  2.43448814  2.44039988  5.1292251 ]\n",
      "New Weights:\n",
      "[ 0.06397708 -0.1210869   0.41542341  0.38823745  0.82164642]\n",
      "\tCurrent input: [ 1.00493675 -0.45095789  1.27932744  1.27932744  2.74903112]\n",
      "New Weights:\n",
      "[ 0.01068019 -0.01093746  0.40629501  0.41871959  0.81746748]\n",
      "\tCurrent input: [ 0.9102205  -2.05750114 -2.51038077 -2.51038077 -4.85513938]\n",
      "New Weights:\n",
      "[-0.08678228  0.12743403  0.41752216  0.40939691  0.80970383]\n",
      "\tCurrent input: [ 1.21952826 -1.10204926 -1.41856678 -3.20466734 -4.61156575]\n",
      "New Weights:\n",
      "[-0.0877217   0.07554782  0.35574569  0.46667177  0.81021973]\n",
      "\tCurrent input: [0.31282946 0.26833798 2.86240436 2.86240436 5.55783425]\n",
      "New Weights:\n",
      "[0.05950772 0.04580192 0.42563765 0.39955128 0.80922673]\n",
      "\tCurrent input: [ 0.2249605  -2.13872179 -1.74648565 -1.74648565 -3.80626361]\n",
      "New Weights:\n",
      "[0.01013898 0.06948741 0.40159127 0.41706502 0.82141671]\n",
      "\tCurrent input: [-0.14225842  0.92044523 -1.62046158 -1.62046158 -3.44263005]\n",
      "New Weights:\n",
      "[ 0.0998458  -0.0304824   0.41120146  0.40271576  0.82136604]\n",
      "\tCurrent input: [ 1.04787451 -0.18319438  0.8286063   2.55352384  3.10636035]\n",
      "New Weights:\n",
      "[-0.02391611 -0.02233882  0.41544157  0.39961639  0.82301375]\n",
      "\tCurrent input: [-0.64991566  0.56822123  4.02756301  4.02756301  8.35542888]\n",
      "New Weights:\n",
      "[-0.06731855  0.05672696  0.39918617  0.39865821  0.8279745 ]\n",
      "\tCurrent input: [ 1.17858979 -0.62115521  2.18768608  2.18768608  4.23762284]\n",
      "New Weights:\n",
      "[ 0.07010676 -0.0331765   0.39781175  0.41983514  0.81611924]\n",
      "\tCurrent input: [ 0.43291965 -1.92305982  2.43448814  2.44039988  5.1292251 ]\n",
      "New Weights:\n",
      "[ 0.06397708 -0.1210869   0.41542341  0.38823745  0.82164642]\n",
      "\tCurrent input: [ 1.00493675 -0.45095789  1.27932744  1.27932744  2.74903112]\n",
      "New Weights:\n",
      "[ 0.01068019 -0.01093746  0.40629501  0.41871959  0.81746748]\n",
      "\tCurrent input: [ 0.9102205  -2.05750114 -2.51038077 -2.51038077 -4.85513938]\n",
      "New Weights:\n",
      "[-0.08678228  0.12743403  0.41752216  0.40939691  0.80970383]\n",
      "\tCurrent input: [ 1.21952826 -1.10204926 -1.41856678 -3.20466734 -4.61156575]\n",
      "New Weights:\n",
      "[-0.0877217   0.07554782  0.35574569  0.46667177  0.81021973]\n",
      "\tCurrent input: [0.31282946 0.26833798 2.86240436 2.86240436 5.55783425]\n",
      "New Weights:\n",
      "[0.05950772 0.04580192 0.42563765 0.39955128 0.80922673]\n",
      "\tCurrent input: [ 0.2249605  -2.13872179 -1.74648565 -1.74648565 -3.80626361]\n",
      "New Weights:\n",
      "[0.01013898 0.06948741 0.40159127 0.41706502 0.82141671]\n",
      "\tCurrent input: [-0.14225842  0.92044523 -1.62046158 -1.62046158 -3.44263005]\n",
      "New Weights:\n",
      "[ 0.0998458  -0.0304824   0.41120146  0.40271576  0.82136604]\n",
      "\tCurrent input: [ 1.04787451 -0.18319438  0.8286063   2.55352384  3.10636035]\n",
      "New Weights:\n",
      "[-0.02391611 -0.02233882  0.41544157  0.39961639  0.82301375]\n",
      "\tCurrent input: [-0.64991566  0.56822123  4.02756301  4.02756301  8.35542888]\n",
      "New Weights:\n",
      "[-0.06731855  0.05672696  0.39918617  0.39865821  0.8279745 ]\n",
      "\tCurrent input: [ 1.17858979 -0.62115521  2.18768608  2.18768608  4.23762284]\n",
      "New Weights:\n",
      "[ 0.07010676 -0.0331765   0.39781175  0.41983514  0.81611924]\n",
      "\tCurrent input: [ 0.43291965 -1.92305982  2.43448814  2.44039988  5.1292251 ]\n",
      "New Weights:\n",
      "[ 0.06397708 -0.1210869   0.41542341  0.38823745  0.82164642]\n",
      "\tCurrent input: [ 1.00493675 -0.45095789  1.27932744  1.27932744  2.74903112]\n",
      "New Weights:\n",
      "[ 0.01068019 -0.01093746  0.40629501  0.41871959  0.81746748]\n",
      "\tCurrent input: [ 0.9102205  -2.05750114 -2.51038077 -2.51038077 -4.85513938]\n",
      "New Weights:\n",
      "[-0.08678228  0.12743403  0.41752216  0.40939691  0.80970383]\n",
      "\tCurrent input: [ 1.21952826 -1.10204926 -1.41856678 -3.20466734 -4.61156575]\n",
      "New Weights:\n",
      "[-0.0877217   0.07554782  0.35574569  0.46667177  0.81021973]\n",
      "\tCurrent input: [0.31282946 0.26833798 2.86240436 2.86240436 5.55783425]\n",
      "New Weights:\n",
      "[0.05950772 0.04580192 0.42563765 0.39955128 0.80922673]\n",
      "\tCurrent input: [ 0.2249605  -2.13872179 -1.74648565 -1.74648565 -3.80626361]\n",
      "New Weights:\n",
      "[0.01013898 0.06948741 0.40159127 0.41706502 0.82141671]\n",
      "[0.01013898 0.06948741 0.40159127 0.41706502 0.82141671]\n",
      "all principal components:\n",
      "[[0.01640681 0.02155885 0.40640946 0.4106701  0.81574963]]\n"
     ]
    },
    {
     "data": {
      "image/png": "[encoded data removed]",
      "text/plain": [
       "<Figure size 640x480 with 1 Axes>"
      ]
     },
     "metadata": {},
     "output_type": "display_data"
    }
   ],
   "source": [
    "# Implement Oja's rule here extending your previous implementation\n",
    "# of the simple Hebb rule. Note that this question on Oja's rule\n",
    "# uses a different dataset. So, don't forget to change the dataset\n",
    "# after you have copied the code to this block.\n",
    "\n",
    "import numpy as np\n",
    "\n",
    "# load data from the text file\n",
    "data = np.loadtxt('data_two_groups.txt', usecols=range(5))\n",
    "print(data[1:5,:])\n",
    "\n",
    "# we need a vector of 5 parameters\n",
    "w = np.random.normal(0, 0.5, 5)\n",
    "\n",
    "print(\"initial weights\")\n",
    "print(w)\n",
    "\n",
    "# learning rate; don't change the learning rate epsilon when you are working on questions 2 and 3, unless you really know what you are doing. You may want to make the learning rate dependent on the epoch number to converge to a stable solution.\n",
    "epsilon = 0.01\n",
    "\n",
    "num_iterations = 6\n",
    "\n",
    "update = 0\n",
    "# we can do a fixed number of iterations because the simple Hebb rule won't converge\n",
    "for i in range(num_iterations):\n",
    "    for x in data:\n",
    "\n",
    "        # TODO: add your code here; note that \"epsilon\"\n",
    "        # is defined above and it should be used here;\n",
    "        # don't change its default value in this question.\n",
    "\n",
    "        y = np.dot(x,w)\n",
    "        delta_w = epsilon*(x*y-y*y*w)\n",
    "\n",
    "        w = w+delta_w\n",
    "        \n",
    "        update = update + 1\n",
    "        if update % 10 == 0:\n",
    "            # print every 10th update\n",
    "            print(\"\\tCurrent input: \" + str(x))\n",
    "            # print the weights for every x to see how they are evolving\n",
    "            print(\"New Weights:\\n\" + str(w))\n",
    "\n",
    "# the final weights\n",
    "print(w)\n",
    "\n",
    "\n",
    "# do PCA and show the data in 1D\n",
    "plt.figure(2)\n",
    "pca = PCA(n_components=1)\n",
    "# fit the model parameters\n",
    "pca.fit(data)\n",
    "print(\"all principal components:\")\n",
    "print(pca.components_)\n",
    "# project the data to the new dimension\n",
    "data_pca = pca.transform(data)\n",
    "# a vector of zeros for the scatter plot\n",
    "yaxis = np.zeros(data_pca.shape[0])\n",
    "plt.scatter(data_pca[:,0], yaxis)\n",
    "plt.show() \n"
   ]
  },
  {
   "cell_type": "markdown",
   "metadata": {
    "pycharm": {
     "name": "#%% md\n"
    }
   },
   "source": [
    "- **(3-5):** Run your implementation of Oja's rule on `data_two_groups.txt`. Use the vector of parameters $w$ that you will obtain using Oja's rule to project the original five-dimensional data into 1 dimension defined by $w$. The image that you will obtain should be similar to the one produced by PCA in `sklearn` above. The images may be identical if you have run Oja's rule until convergence, but this is not guaranteed. This step will allow you to see very clearly how a low dimensional representation (and hence data compression) can be achieved using Hebbian learning/Oja's rule or PCA.\n",
    "\n",
    "- **(3-6):** The vector $w$ that you will learn for the given data using Oja's rule will have a very specific relationship between the weights of feature $X_5$ and features $X_3$ and $X_4$. Use Fig. 1 to explain/justify this relationship.\n",
    "\n",
    "- **(3-7):** Add a stopping condition to your Oja's rule implementation. The algorithm should stop when $\\Delta w$ is sufficiently small (e.g. $0.01$ or lower) across all features $X_i$."
   ]
  },
  {
   "cell_type": "markdown",
   "metadata": {
    "pycharm": {
     "name": "#%% md\n"
    }
   },
   "source": [
    "## Question 4 - Learning Rate\n",
    "\n",
    "In this question, you will use your implementation of Oja's rule developed in Question 3. Your implementation has the learning rate parameter that is denoted $\\epsilon$ in our lecture slides and in the textbook.\n",
    "\n",
    "The objective of this exploration is to investigate the impact of the learning rate on the learning process and its convergence. The following questions should be addressed.\n",
    "\n",
    "- **(4-1):** How does the change in the learning rate affect the general character of the weight updates?\n",
    "- **(4-2):** Explain why this happens.\n",
    "- **(4-3):** Explain the relevance (if any) this might have for the importance of integrating over multiple experiences (events) in learning."
   ]
  },
  {
   "cell_type": "markdown",
   "metadata": {},
   "source": [
    "## References\n",
    "\n",
    "O'Reilly, Randall C., and Yuko Munakata. Computational explorations in cognitive neuroscience: Understanding the mind by simulating the brain. MIT press, 2000."
   ]
  }
 ],
 "metadata": {
  "kernelspec": {
   "display_name": "Python 3 (ipykernel)",
   "language": "python",
   "name": "python3"
  },
  "language_info": {
   "codemirror_mode": {
    "name": "ipython",
    "version": 3
   },
   "file_extension": ".py",
   "mimetype": "text/x-python",
   "name": "python",
   "nbconvert_exporter": "python",
   "pygments_lexer": "ipython3",
   "version": "3.10.12"
  }
 },
 "nbformat": 4,
 "nbformat_minor": 4
}
