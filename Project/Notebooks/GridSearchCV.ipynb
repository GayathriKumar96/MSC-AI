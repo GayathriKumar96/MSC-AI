{
 "cells": [
  {
   "cell_type": "code",
   "execution_count": 6,
   "id": "748e7091-e826-4943-be6b-a135c0ba82c8",
   "metadata": {},
   "outputs": [],
   "source": [
    "import pandas as pd\n",
    "from sklearn.model_selection import train_test_split\n",
    "from sklearn.feature_extraction.text import TfidfVectorizer\n",
    "from sklearn.metrics import accuracy_score\n",
    "from sklearn.model_selection import GridSearchCV\n",
    "from sklearn.linear_model import LogisticRegression"
   ]
  },
  {
   "cell_type": "code",
   "execution_count": 2,
   "id": "34479ffa-04dd-484b-80e4-4fca99492236",
   "metadata": {},
   "outputs": [],
   "source": [
    "#Load the dataframe first 200 rows\n",
    "data = pd.read_csv('../Dataset/preprocessed_dataset.csv', usecols=['text','label1'], nrows=200)\n",
    "data = data.rename(columns={'label1': 'label'})"
   ]
  },
  {
   "cell_type": "code",
   "execution_count": 3,
   "id": "4eabaeed-f3eb-4ded-91fa-512ca5278b4b",
   "metadata": {},
   "outputs": [],
   "source": [
    "# Split data into train and test sets\n",
    "X_train, X_test, y_train, y_test = train_test_split(data[\"text\"], data[\"label\"], test_size=0.2, random_state=42)"
   ]
  },
  {
   "cell_type": "code",
   "execution_count": 4,
   "id": "e9f84304-d27a-458c-ae11-2014ee3737ff",
   "metadata": {},
   "outputs": [],
   "source": [
    "# Feature extraction using TF-IDF\n",
    "vectorizer = TfidfVectorizer(max_features=10000, ngram_range=(1, 2))\n",
    "X_train_features = vectorizer.fit_transform(X_train)\n",
    "X_test_features = vectorizer.transform(X_test)"
   ]
  },
  {
   "cell_type": "code",
   "execution_count": 7,
   "id": "8df1e963-795e-474f-ab0b-53b9155cc720",
   "metadata": {},
   "outputs": [],
   "source": [
    "classifier = LogisticRegression(solver=\"lbfgs\", C=1.0)"
   ]
  },
  {
   "cell_type": "code",
   "execution_count": 8,
   "id": "8c212461-0e82-4e9a-9715-e75ad6258252",
   "metadata": {},
   "outputs": [
    {
     "name": "stderr",
     "output_type": "stream",
     "text": [
      "/opt/anaconda3/envs/my_env/lib/python3.11/site-packages/sklearn/model_selection/_split.py:776: UserWarning: The least populated class in y has only 3 members, which is less than n_splits=5.\n",
      "  warnings.warn(\n"
     ]
    },
    {
     "name": "stdout",
     "output_type": "stream",
     "text": [
      "Best parameters: {'C': 100}\n"
     ]
    }
   ],
   "source": [
    "# Tune the regularization parameter (C)\n",
    "param_grid = {'C': [0.001, 0.01, 0.1, 1, 10, 100]}\n",
    "grid_search = GridSearchCV(estimator=classifier, param_grid=param_grid, cv=5)\n",
    "grid_search.fit(X_train_features, y_train)\n",
    "print(f\"Best parameters: {grid_search.best_params_}\")\n",
    "best_model = grid_search.best_estimator_"
   ]
  },
  {
   "cell_type": "code",
   "execution_count": 9,
   "id": "232566c2-52e3-4a26-8fa6-8ec2be98d88c",
   "metadata": {},
   "outputs": [
    {
     "name": "stdout",
     "output_type": "stream",
     "text": [
      "Accuracy with best parameters: 0.7250\n"
     ]
    }
   ],
   "source": [
    "# Evaluate performance with the best model\n",
    "y_pred = best_model.predict(X_test_features)\n",
    "accuracy = accuracy_score(y_test, y_pred)\n",
    "print(f\"Accuracy with best parameters: {accuracy:.4f}\")"
   ]
  }
 ],
 "metadata": {
  "kernelspec": {
   "display_name": "Python 3 (ipykernel)",
   "language": "python",
   "name": "python3"
  },
  "language_info": {
   "codemirror_mode": {
    "name": "ipython",
    "version": 3
   },
   "file_extension": ".py",
   "mimetype": "text/x-python",
   "name": "python",
   "nbconvert_exporter": "python",
   "pygments_lexer": "ipython3",
   "version": "3.11.5"
  }
 },
 "nbformat": 4,
 "nbformat_minor": 5
}
