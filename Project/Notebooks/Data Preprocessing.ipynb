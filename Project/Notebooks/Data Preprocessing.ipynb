{
 "cells": [
  {
   "cell_type": "code",
   "execution_count": 10,
   "id": "0fdeb9cc-a43b-438c-9993-f67f1e116227",
   "metadata": {},
   "outputs": [],
   "source": [
    "import pandas as pd\n",
    "import nltk\n",
    "import re\n",
    "from nltk.corpus import stopwords\n",
    "from nltk.stem import SnowballStemmer"
   ]
  },
  {
   "cell_type": "code",
   "execution_count": 11,
   "id": "59b8d4e6-4984-45ae-8bb1-d4118340cceb",
   "metadata": {},
   "outputs": [],
   "source": [
    "# Load data from X and Y1 files\n",
    "data = pd.read_csv(\"../Dataset/X.txt\", sep=\"\\t\", header=None, names=[\"text\"])\n",
    "data[\"label1\"] = pd.read_csv(\"../Dataset/YL1.txt\", sep=\"\\t\", header=None)\n",
    "data[\"label2\"] = pd.read_csv(\"../Dataset/YL2.txt\", sep=\"\\t\", header=None)\n",
    "data[\"label3\"] = pd.read_csv(\"../Dataset/Y.txt\", sep=\"\\t\", header=None)"
   ]
  },
  {
   "cell_type": "code",
   "execution_count": 12,
   "id": "e10962c3-27b3-40b6-bf26-843ab7dc0890",
   "metadata": {},
   "outputs": [
    {
     "name": "stderr",
     "output_type": "stream",
     "text": [
      "[nltk_data] Downloading package stopwords to /root/nltk_data...\n",
      "[nltk_data]   Package stopwords is already up-to-date!\n"
     ]
    }
   ],
   "source": [
    "# Preprocess text data\n",
    "nltk.download('stopwords')\n",
    "def preprocess_text(text):\n",
    "  \"\"\"\n",
    "  Preprocesses text data for better feature extraction.\n",
    "  \"\"\"\n",
    "  text = text.lower()  # Lowercase text\n",
    "  text = re.sub(r'[^\\w\\s]', '', text)  # Remove punctuation\n",
    "  stop_words = stopwords.words('english')  # Load stopwords\n",
    "  text = \" \".join([word for word in text.split() if word not in stop_words])  # Remove stopwords\n",
    "  stemmer = SnowballStemmer(\"english\")  # Initialize stemmer\n",
    "  text = stemmer.stem(text)  # Apply stemming\n",
    "  return text\n",
    "\n",
    "data[\"text\"] = data[\"text\"].apply(preprocess_text)  # Apply preprocessing to all text"
   ]
  },
  {
   "cell_type": "code",
   "execution_count": 14,
   "id": "a65ddc51-d245-42b9-95dd-fd9ffd10fae7",
   "metadata": {},
   "outputs": [],
   "source": [
    "#Save preprocessed dataframe\n",
    "data.to_csv('../Dataset/preprocessed_dataset.csv', index=False)"
   ]
  }
 ],
 "metadata": {
  "kernelspec": {
   "display_name": "Python 3 (ipykernel)",
   "language": "python",
   "name": "python3"
  },
  "language_info": {
   "codemirror_mode": {
    "name": "ipython",
    "version": 3
   },
   "file_extension": ".py",
   "mimetype": "text/x-python",
   "name": "python",
   "nbconvert_exporter": "python",
   "pygments_lexer": "ipython3",
   "version": "3.11.5"
  }
 },
 "nbformat": 4,
 "nbformat_minor": 5
}
