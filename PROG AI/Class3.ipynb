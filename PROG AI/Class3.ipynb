{
 "cells": [
  {
   "cell_type": "code",
   "execution_count": 5,
   "id": "b676d99d-a8e4-4316-9fdd-2ccc3a9cb55f",
   "metadata": {},
   "outputs": [
    {
     "name": "stdout",
     "output_type": "stream",
     "text": [
      "{'J': ['Jim', 'Jack'], 'A': ['Ari'], 'G': ['Gayathri'], 'H': ['Hetty', 'Harry', 'Henry'], 'K': ['Kirsten'], 'T': ['Theo'], 'P': ['Paul']}\n"
     ]
    }
   ],
   "source": [
    "#Question 1\n",
    "names = [\"Jim\", \"Ari\", \"Jack\", \"Gayathri\", \"Hetty\", \"Harry\", \"Kirsten\", \"Theo\", \"Henry\", \"Paul\"]\n",
    "grouped = {}\n",
    "for name in names:\n",
    "    if name[0].upper() not in grouped.keys():\n",
    "        grouped[name[0].upper()] = []\n",
    "    grouped[name[0].upper()].append(name)\n",
    "print(grouped)"
   ]
  },
  {
   "cell_type": "code",
   "execution_count": 7,
   "id": "5b36a201-e88f-411f-b4cc-09722878c83e",
   "metadata": {},
   "outputs": [
    {
     "name": "stdout",
     "output_type": "stream",
     "text": [
      "{'apple': 'computer', 'macbook pro': 'model', 'M1 Pro': 'processor', 2021: 'year', 'xyz': 2}\n"
     ]
    }
   ],
   "source": [
    "#Question 2\n",
    "my_dict = {\"computer\" : \"apple\", \"model\" : \"macbook pro\", \"processor\" : \"M1 Pro\", \"year\" : 2021,2:\"xyz\"}\n",
    "inverted_dict = {v:k for k,v in my_dict.items()}\n",
    "print(inverted_dict)"
   ]
  },
  {
   "cell_type": "code",
   "execution_count": 14,
   "id": "3f1687e0-74da-497a-a134-19fc80c87e3f",
   "metadata": {},
   "outputs": [
    {
     "name": "stdout",
     "output_type": "stream",
     "text": [
      "0\n",
      "1\n",
      "5\n",
      "9\n",
      "5\n",
      "2\n",
      "[['7943'], ['1467'], ['12'], [], [], ['630', '391032'], [], [], [], ['233333']]\n"
     ]
    }
   ],
   "source": [
    "#Question 3(Weekly Assignment)\n",
    "my_dict = {\"alan\": \"7943\",\"jim\": \"1467\", \"ari\": \"630\", \"jack\": \"233333\",\"gayathri\": \"391032\",\"hetty\":\"12\"}\n",
    "n = 10\n",
    "list_dict = [[] for i in range(n)]\n",
    "\n",
    "for key in my_dict.keys():\n",
    "    index = hash(key) % n\n",
    "    print(index)\n",
    "    list_dict[index].append(my_dict[key])\n",
    "\n",
    "print(list_dict)"
   ]
  },
  {
   "cell_type": "code",
   "execution_count": null,
   "id": "79c2db56-ea72-40ee-bd2f-9e6a8ba6e546",
   "metadata": {},
   "outputs": [],
   "source": []
  }
 ],
 "metadata": {
  "kernelspec": {
   "display_name": "Python 3 (ipykernel)",
   "language": "python",
   "name": "python3"
  },
  "language_info": {
   "codemirror_mode": {
    "name": "ipython",
    "version": 3
   },
   "file_extension": ".py",
   "mimetype": "text/x-python",
   "name": "python",
   "nbconvert_exporter": "python",
   "pygments_lexer": "ipython3",
   "version": "3.10.12"
  }
 },
 "nbformat": 4,
 "nbformat_minor": 5
}
