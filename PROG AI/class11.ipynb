{
 "cells": [
  {
   "cell_type": "code",
   "execution_count": 60,
   "id": "2cbec973-24d7-4412-83eb-d87309972215",
   "metadata": {},
   "outputs": [
    {
     "data": {
      "text/plain": [
       "Age                                   0\n",
       "Gender                                0\n",
       "TB Total Bilirubin                    0\n",
       "DB Direct Bilirubin                   0\n",
       "Alkphos Alkaline Phosphotase          0\n",
       "Sgpt Alamine Aminotransferase         0\n",
       "Sgot Aspartate Aminotransferase       0\n",
       "TP Total Protiens                     0\n",
       "ALB Albumin                           0\n",
       "A/G Ratio Albumin / Globulin Ratio    4\n",
       "Class                                 0\n",
       "dtype: int64"
      ]
     },
     "execution_count": 60,
     "metadata": {},
     "output_type": "execute_result"
    }
   ],
   "source": [
    "\"\"\". Load the following dataset:\n",
    "https://archive.ics.uci.edu/ml/machine-learning\u0002databases/00225/Indian%20Liver%20Patient%20Dataset%20(ILPD).csv\n",
    "into a Pandas’ DataFrame. Use the following column names\"\"\"\n",
    "\n",
    "import pandas as pd\n",
    "\n",
    "columns = [\"Age\",\n",
    " \"Gender\",\n",
    " \"TB Total Bilirubin\",\n",
    " \"DB Direct Bilirubin\",\n",
    " \"Alkphos Alkaline Phosphotase\",\n",
    " \"Sgpt Alamine Aminotransferase\",\n",
    " \"Sgot Aspartate Aminotransferase\",\n",
    " \"TP Total Protiens\",\n",
    " \"ALB Albumin\",\n",
    " \"A/G Ratio Albumin / Globulin Ratio\",\n",
    " \"Class\"]\n",
    "\n",
    "df = pd.read_csv('https://archive.ics.uci.edu/ml/machine-learning-databases/00225/Indian%20Liver%20Patient%20Dataset%20(ILPD).csv',names=columns)\n",
    "df.isna().sum()"
   ]
  },
  {
   "cell_type": "code",
   "execution_count": 48,
   "id": "7128d5d7-c096-4ffe-bb80-4236e9ec4a25",
   "metadata": {},
   "outputs": [
    {
     "name": "stdout",
     "output_type": "stream",
     "text": [
      "     Age  TB Total Bilirubin  DB Direct Bilirubin  \\\n",
      "0     65                 0.7                  0.1   \n",
      "1     62                10.9                  5.5   \n",
      "2     62                 7.3                  4.1   \n",
      "3     58                 1.0                  0.4   \n",
      "4     72                 3.9                  2.0   \n",
      "..   ...                 ...                  ...   \n",
      "578   60                 0.5                  0.1   \n",
      "579   40                 0.6                  0.1   \n",
      "580   52                 0.8                  0.2   \n",
      "581   31                 1.3                  0.5   \n",
      "582   38                 1.0                  0.3   \n",
      "\n",
      "     Alkphos Alkaline Phosphotase  Sgpt Alamine Aminotransferase  \\\n",
      "0                             187                             16   \n",
      "1                             699                             64   \n",
      "2                             490                             60   \n",
      "3                             182                             14   \n",
      "4                             195                             27   \n",
      "..                            ...                            ...   \n",
      "578                           500                             20   \n",
      "579                            98                             35   \n",
      "580                           245                             48   \n",
      "581                           184                             29   \n",
      "582                           216                             21   \n",
      "\n",
      "     Sgot Aspartate Aminotransferase  TP Total Protiens  ALB Albumin  \\\n",
      "0                                 18                6.8          3.3   \n",
      "1                                100                7.5          3.2   \n",
      "2                                 68                7.0          3.3   \n",
      "3                                 20                6.8          3.4   \n",
      "4                                 59                7.3          2.4   \n",
      "..                               ...                ...          ...   \n",
      "578                               34                5.9          1.6   \n",
      "579                               31                6.0          3.2   \n",
      "580                               49                6.4          3.2   \n",
      "581                               32                6.8          3.4   \n",
      "582                               24                7.3          4.4   \n",
      "\n",
      "     A/G Ratio Albumin / Globulin Ratio  Class  Female  Male  \n",
      "0                                  0.90      1     1.0   0.0  \n",
      "1                                  0.74      1     0.0   1.0  \n",
      "2                                  0.89      1     0.0   1.0  \n",
      "3                                  1.00      1     0.0   1.0  \n",
      "4                                  0.40      1     0.0   1.0  \n",
      "..                                  ...    ...     ...   ...  \n",
      "578                                0.37      2     0.0   1.0  \n",
      "579                                1.10      1     0.0   1.0  \n",
      "580                                1.00      1     0.0   1.0  \n",
      "581                                1.00      1     0.0   1.0  \n",
      "582                                1.50      2     0.0   1.0  \n",
      "\n",
      "[583 rows x 12 columns]\n"
     ]
    },
    {
     "data": {
      "text/html": [
       "<style>#sk-container-id-8 {color: black;}#sk-container-id-8 pre{padding: 0;}#sk-container-id-8 div.sk-toggleable {background-color: white;}#sk-container-id-8 label.sk-toggleable__label {cursor: pointer;display: block;width: 100%;margin-bottom: 0;padding: 0.3em;box-sizing: border-box;text-align: center;}#sk-container-id-8 label.sk-toggleable__label-arrow:before {content: \"▸\";float: left;margin-right: 0.25em;color: #696969;}#sk-container-id-8 label.sk-toggleable__label-arrow:hover:before {color: black;}#sk-container-id-8 div.sk-estimator:hover label.sk-toggleable__label-arrow:before {color: black;}#sk-container-id-8 div.sk-toggleable__content {max-height: 0;max-width: 0;overflow: hidden;text-align: left;background-color: #f0f8ff;}#sk-container-id-8 div.sk-toggleable__content pre {margin: 0.2em;color: black;border-radius: 0.25em;background-color: #f0f8ff;}#sk-container-id-8 input.sk-toggleable__control:checked~div.sk-toggleable__content {max-height: 200px;max-width: 100%;overflow: auto;}#sk-container-id-8 input.sk-toggleable__control:checked~label.sk-toggleable__label-arrow:before {content: \"▾\";}#sk-container-id-8 div.sk-estimator input.sk-toggleable__control:checked~label.sk-toggleable__label {background-color: #d4ebff;}#sk-container-id-8 div.sk-label input.sk-toggleable__control:checked~label.sk-toggleable__label {background-color: #d4ebff;}#sk-container-id-8 input.sk-hidden--visually {border: 0;clip: rect(1px 1px 1px 1px);clip: rect(1px, 1px, 1px, 1px);height: 1px;margin: -1px;overflow: hidden;padding: 0;position: absolute;width: 1px;}#sk-container-id-8 div.sk-estimator {font-family: monospace;background-color: #f0f8ff;border: 1px dotted black;border-radius: 0.25em;box-sizing: border-box;margin-bottom: 0.5em;}#sk-container-id-8 div.sk-estimator:hover {background-color: #d4ebff;}#sk-container-id-8 div.sk-parallel-item::after {content: \"\";width: 100%;border-bottom: 1px solid gray;flex-grow: 1;}#sk-container-id-8 div.sk-label:hover label.sk-toggleable__label {background-color: #d4ebff;}#sk-container-id-8 div.sk-serial::before {content: \"\";position: absolute;border-left: 1px solid gray;box-sizing: border-box;top: 0;bottom: 0;left: 50%;z-index: 0;}#sk-container-id-8 div.sk-serial {display: flex;flex-direction: column;align-items: center;background-color: white;padding-right: 0.2em;padding-left: 0.2em;position: relative;}#sk-container-id-8 div.sk-item {position: relative;z-index: 1;}#sk-container-id-8 div.sk-parallel {display: flex;align-items: stretch;justify-content: center;background-color: white;position: relative;}#sk-container-id-8 div.sk-item::before, #sk-container-id-8 div.sk-parallel-item::before {content: \"\";position: absolute;border-left: 1px solid gray;box-sizing: border-box;top: 0;bottom: 0;left: 50%;z-index: -1;}#sk-container-id-8 div.sk-parallel-item {display: flex;flex-direction: column;z-index: 1;position: relative;background-color: white;}#sk-container-id-8 div.sk-parallel-item:first-child::after {align-self: flex-end;width: 50%;}#sk-container-id-8 div.sk-parallel-item:last-child::after {align-self: flex-start;width: 50%;}#sk-container-id-8 div.sk-parallel-item:only-child::after {width: 0;}#sk-container-id-8 div.sk-dashed-wrapped {border: 1px dashed gray;margin: 0 0.4em 0.5em 0.4em;box-sizing: border-box;padding-bottom: 0.4em;background-color: white;}#sk-container-id-8 div.sk-label label {font-family: monospace;font-weight: bold;display: inline-block;line-height: 1.2em;}#sk-container-id-8 div.sk-label-container {text-align: center;}#sk-container-id-8 div.sk-container {/* jupyter's `normalize.less` sets `[hidden] { display: none; }` but bootstrap.min.css set `[hidden] { display: none !important; }` so we also need the `!important` here to be able to override the default hidden behavior on the sphinx rendered scikit-learn.org. See: https://github.com/scikit-learn/scikit-learn/issues/21755 */display: inline-block !important;position: relative;}#sk-container-id-8 div.sk-text-repr-fallback {display: none;}</style><div id=\"sk-container-id-8\" class=\"sk-top-container\"><div class=\"sk-text-repr-fallback\"><pre>DecisionTreeClassifier()</pre><b>In a Jupyter environment, please rerun this cell to show the HTML representation or trust the notebook. <br />On GitHub, the HTML representation is unable to render, please try loading this page with nbviewer.org.</b></div><div class=\"sk-container\" hidden><div class=\"sk-item\"><div class=\"sk-estimator sk-toggleable\"><input class=\"sk-toggleable__control sk-hidden--visually\" id=\"sk-estimator-id-8\" type=\"checkbox\" checked><label for=\"sk-estimator-id-8\" class=\"sk-toggleable__label sk-toggleable__label-arrow\">DecisionTreeClassifier</label><div class=\"sk-toggleable__content\"><pre>DecisionTreeClassifier()</pre></div></div></div></div></div>"
      ],
      "text/plain": [
       "DecisionTreeClassifier()"
      ]
     },
     "execution_count": 48,
     "metadata": {},
     "output_type": "execute_result"
    }
   ],
   "source": [
    "\"\"\"Build a DecisionTreeClassifier using the DataFrame above. You might need to \n",
    "investigate whether to apply any pre-processing step or not. Remember that the \n",
    "‘Class’ attributes should not be used as a predictor attribute\"\"\"\n",
    "\n",
    "from sklearn.tree import DecisionTreeClassifier\n",
    "from sklearn.preprocessing import OneHotEncoder\n",
    "\n",
    "enc = OneHotEncoder(handle_unknown='ignore', sparse_output=False)\n",
    "values = enc.fit_transform(df.loc[:, ['Gender']])\n",
    "\n",
    "#print(enc.categories_)\n",
    "\n",
    "new_df = df.copy()\n",
    "\n",
    "new_df['Female'] = values[:, 0]\n",
    "new_df['Male'] = values[:, 1]\n",
    "\n",
    "new_df=new_df.drop(columns=['Gender'])\n",
    "\n",
    "#print(new_df)\n",
    "\n",
    "\n",
    "X = new_df.loc[:,[\"Age\",\n",
    " \"TB Total Bilirubin\",\n",
    " \"DB Direct Bilirubin\",\n",
    " \"Alkphos Alkaline Phosphotase\",\n",
    " \"Sgpt Alamine Aminotransferase\",\n",
    " \"Sgot Aspartate Aminotransferase\",\n",
    " \"TP Total Protiens\",\n",
    " \"ALB Albumin\",\n",
    " \"A/G Ratio Albumin / Globulin Ratio\",\"Female\",\"Male\"]]\n",
    "Y = new_df['Class']\n",
    "\n",
    "\n",
    "tree = DecisionTreeClassifier()\n",
    "tree.fit(X,Y)\n",
    "\n"
   ]
  },
  {
   "cell_type": "code",
   "execution_count": 49,
   "id": "2ec792fc-1672-441c-8ed3-8e76ae09aa97",
   "metadata": {},
   "outputs": [
    {
     "name": "stdout",
     "output_type": "stream",
     "text": [
      "Average:  0.6520547945205479\n"
     ]
    }
   ],
   "source": [
    "\"\"\"As we discussed in the lecture, to reliably evaluate the quality of a classifier we need to \n",
    "divide the data into training and testing. Using the train_test_split function, create \n",
    "and evaluate a DecisionTreeClassifier. Repeat the evaluation 10 times using different \n",
    "random_state values and calculate the average performance.\"\"\"\n",
    "\n",
    "from sklearn.model_selection import train_test_split\n",
    "sum=0\n",
    "for i in range(10):    \n",
    "    X_train, X_test, Y_train, Y_test = train_test_split(X, Y, random_state=i)    \n",
    "    tree.fit(X_train,Y_train)\n",
    "    score = tree.score(X_test, Y_test)\n",
    "    #print(score)\n",
    "    sum+=score\n",
    "print(\"Average: \",sum/10)"
   ]
  },
  {
   "cell_type": "code",
   "execution_count": 50,
   "id": "9fa5aba3-af27-439a-9b72-a0bd785135dd",
   "metadata": {},
   "outputs": [
    {
     "data": {
      "text/plain": [
       "0.7397260273972602"
      ]
     },
     "execution_count": 50,
     "metadata": {},
     "output_type": "execute_result"
    }
   ],
   "source": [
    "\"\"\"We can use the same data to model a different classification problem. For example, try \n",
    "to predict the ‘Gender’ based on the different set of predictors. Train a classifier to \n",
    "predict the ‘Gender’ value, measuring its performance.\"\"\"\n",
    "X = df.loc[:,[\"Age\",\n",
    " \"TB Total Bilirubin\",\n",
    " \"DB Direct Bilirubin\",\n",
    " \"Alkphos Alkaline Phosphotase\",\n",
    " \"Sgpt Alamine Aminotransferase\",\n",
    " \"Sgot Aspartate Aminotransferase\",\n",
    " \"TP Total Protiens\",\n",
    " \"ALB Albumin\",\n",
    " \"A/G Ratio Albumin / Globulin Ratio\",\n",
    " \"Class\"]]\n",
    "Y = df['Gender']\n",
    "X_train, X_test, Y_train, Y_test = train_test_split(X, Y, random_state=0)    \n",
    "tree.fit(X_train,Y_train)\n",
    "tree.score(X_test, Y_test)\n"
   ]
  },
  {
   "cell_type": "code",
   "execution_count": 58,
   "id": "ac4b8804-44ac-49cc-86ce-95d704093287",
   "metadata": {},
   "outputs": [
    {
     "name": "stdout",
     "output_type": "stream",
     "text": [
      "0.6620689655172414\n",
      "0.7241379310344828\n",
      "0.7103448275862069\n",
      "0.6827586206896552\n",
      "0.7034482758620689\n",
      "0.7103448275862069\n",
      "0.6758620689655173\n",
      "0.7724137931034483\n",
      "0.7103448275862069\n",
      "0.7172413793103448\n",
      "Average:  0.7068965517241378\n"
     ]
    }
   ],
   "source": [
    "\"\"\"Repeat Task 3, this time using a RandomForestClassifier. Compare the results \n",
    "obtained by the RandomForest against the DecisionTree\"\"\"\n",
    "\n",
    "from sklearn.ensemble import RandomForestClassifier\n",
    "\n",
    "X = new_df.loc[:, 'Age':'Male'].dropna(how='any')\n",
    "Y = X['Class']\n",
    "X = X.drop(columns=['Class'])\n",
    "\n",
    "sum=0\n",
    "for i in range(10):    \n",
    "    X_train, X_test, Y_train, Y_test = train_test_split(X, Y, random_state=i)\n",
    "    forest = RandomForestClassifier(n_estimators=10, random_state=i)\n",
    "    forest.fit(X_train,Y_train)\n",
    "    score = forest.score(X_test, Y_test)\n",
    "    print(score)\n",
    "    sum+=score\n",
    "print(\"Average: \",sum/10)"
   ]
  }
 ],
 "metadata": {
  "kernelspec": {
   "display_name": "Python 3 (ipykernel)",
   "language": "python",
   "name": "python3"
  },
  "language_info": {
   "codemirror_mode": {
    "name": "ipython",
    "version": 3
   },
   "file_extension": ".py",
   "mimetype": "text/x-python",
   "name": "python",
   "nbconvert_exporter": "python",
   "pygments_lexer": "ipython3",
   "version": "3.10.12"
  }
 },
 "nbformat": 4,
 "nbformat_minor": 5
}
