{
 "cells": [
  {
   "cell_type": "code",
   "execution_count": 2,
   "id": "3177f4fd-ee7e-4fee-9c35-efe4bec000a4",
   "metadata": {},
   "outputs": [
    {
     "name": "stdout",
     "output_type": "stream",
     "text": [
      "[10, 20, 30, 40, 50, 60, 70, 80, 90, 100]\n"
     ]
    }
   ],
   "source": [
    "#Question 1\n",
    "divisible = [i for i in range(1,101) if i%(2*5)==0]\n",
    "print(divisible)"
   ]
  },
  {
   "cell_type": "code",
   "execution_count": 5,
   "id": "644780d4-9059-4383-a58a-7fa13d901949",
   "metadata": {},
   "outputs": [
    {
     "name": "stdout",
     "output_type": "stream",
     "text": [
      "['Hetty', 'Henry']\n"
     ]
    }
   ],
   "source": [
    "#Question 2\n",
    "names = [\"Jim\", \"Hetty\", \"Kirsten\", \"Theo\", \"Henry\", \"Paul\"]\n",
    "letter = \"H\"\n",
    "filtered = [name for name in names if name.lower()[0]==letter.lower()]\n",
    "print(filtered) # this line will print the list"
   ]
  },
  {
   "cell_type": "code",
   "execution_count": 6,
   "id": "8653d8c9-a2a5-4438-9c4f-ed6d9ace3e29",
   "metadata": {},
   "outputs": [
    {
     "name": "stdout",
     "output_type": "stream",
     "text": [
      "44\n"
     ]
    }
   ],
   "source": [
    "#Question 3\n",
    "values1 = [4, 6, 2, 9, 10, 11, 24, 50, 33]\n",
    "values2 = [3, 5, 24, 12, 13, 4, 20, 10, 6]\n",
    "total = 0\n",
    "for value in values1:\n",
    "    if value in values2:\n",
    "        total += value\n",
    "print(total)"
   ]
  },
  {
   "cell_type": "code",
   "execution_count": 12,
   "id": "b50918d9-0465-4af0-99aa-8d5ccc1fd404",
   "metadata": {},
   "outputs": [
    {
     "name": "stdout",
     "output_type": "stream",
     "text": [
      "14\n"
     ]
    }
   ],
   "source": [
    "#Question 4\n",
    "values_list = [4, 12, 2, 9, 10, 11, 5, 9, 33]\n",
    "total = 0\n",
    "add_list = {value:index for index, value in enumerate(values_list) if value > 10}\n",
    "for value in add_list.values():\n",
    "    total += value\n",
    "print(total)"
   ]
  },
  {
   "cell_type": "code",
   "execution_count": 58,
   "id": "dfbb6172-b57f-42f9-bfc1-e66124763ce1",
   "metadata": {},
   "outputs": [
    {
     "name": "stdout",
     "output_type": "stream",
     "text": [
      "o\n"
     ]
    }
   ],
   "source": [
    "#Question 5 (Weekly assignment)\n",
    "game_state = [[\"o\", \"o\", \"x\"],\n",
    " [\"o\", \"x\", \"x\"],\n",
    " [\"o\", \"x\", \"o\"]]\n",
    "result = \"none\"\n",
    "win_list = [\"00-01-02\",\"10-11-12\",\"20-21-22\",\"00-10-20\",\"01-11-21\",\"02-12-22\",\"02-12-22\",\"00-11-22\",\"02-11-20\"]\n",
    "for win in win_list:\n",
    "    line_list = win.split('-')\n",
    "    line_set = {game_state[int(line[0])][int(line[1])]  for line in line_list}\n",
    "    if len(line_set) == 1:\n",
    "        result = line_set.pop()\n",
    "        break\n",
    "\n",
    "\n",
    "print(result)\n"
   ]
  },
  {
   "cell_type": "code",
   "execution_count": null,
   "id": "55a210de-201d-483f-ac38-3057e86c59e9",
   "metadata": {},
   "outputs": [],
   "source": []
  }
 ],
 "metadata": {
  "kernelspec": {
   "display_name": "Python 3 (ipykernel)",
   "language": "python",
   "name": "python3"
  },
  "language_info": {
   "codemirror_mode": {
    "name": "ipython",
    "version": 3
   },
   "file_extension": ".py",
   "mimetype": "text/x-python",
   "name": "python",
   "nbconvert_exporter": "python",
   "pygments_lexer": "ipython3",
   "version": "3.10.12"
  }
 },
 "nbformat": 4,
 "nbformat_minor": 5
}
