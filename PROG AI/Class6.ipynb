{
 "cells": [
  {
   "cell_type": "code",
   "execution_count": 82,
   "id": "ec249344-a11f-4b96-858a-53a806de7333",
   "metadata": {},
   "outputs": [],
   "source": [
    "from abc import ABC, abstractmethod"
   ]
  },
  {
   "cell_type": "code",
   "execution_count": 92,
   "id": "da4a7ec5-819c-4510-9272-2fc9b48bd077",
   "metadata": {},
   "outputs": [],
   "source": [
    "class Account(ABC):\n",
    "    def __init__(self, ac_no, bal):\n",
    "        self._account_number = ac_no\n",
    "        self._balance = bal\n",
    "\n",
    "    @abstractmethod\n",
    "    def description(self):\n",
    "        pass\n",
    "\n",
    "    def get_account_number(self):\n",
    "        return self._account_number\n",
    "\n",
    "    def get_balance(self):\n",
    "        return self._balance\n",
    "\n",
    "    def deposit(self, amount):\n",
    "        if amount<=0:\n",
    "            return \"Invalid amount\"\n",
    "        self._balance += amount\n",
    "        return \"Balance: \" + str(self._balance)\n",
    "\n",
    "    def withdraw(self, amount):\n",
    "        if amount<=0:\n",
    "            return \"Invalid amount\"\n",
    "        elif amount > self._balance:\n",
    "            return \"Insufficient Funds\"\n",
    "        self._balance -= amount\n",
    "        return \"Balance: \" + str(self._balance)"
   ]
  },
  {
   "cell_type": "code",
   "execution_count": 93,
   "id": "b9aae7df-9270-497d-b0e8-0193b2a89052",
   "metadata": {},
   "outputs": [],
   "source": [
    "class SavingsAccount(Account):\n",
    "    def __init__(self, ac_no, bal, interest=0.02):\n",
    "        super().__init__(ac_no, bal)\n",
    "        self.interest = interest\n",
    "\n",
    "    def annual_interest(self):\n",
    "        return \"Annual Interest: \" + str(self._balance * self.interest)\n",
    "\n",
    "    def description(self):\n",
    "            return \"Savings Account\"\n"
   ]
  },
  {
   "cell_type": "code",
   "execution_count": 94,
   "id": "fbb231a7-f9b4-43f9-baf3-0b695e06719a",
   "metadata": {},
   "outputs": [],
   "source": [
    "class CurrentAccount(Account):\n",
    "    def __init__(self, ac_no, bal, overdraft=100):\n",
    "        super().__init__(ac_no, bal)\n",
    "        self.overdraft = overdraft\n",
    "        \n",
    "    def withdraw(self, amount):\n",
    "        if amount<=0:\n",
    "            return \"Invalid amount\"\n",
    "        elif amount > self._balance + self.overdraft:\n",
    "            return \"Insufficient Funds\"\n",
    "        self._balance -= amount\n",
    "        return \"Balance: \" + str(self._balance)\n",
    "\n",
    "    def description(self):\n",
    "            return \"Current Account\"\n"
   ]
  },
  {
   "cell_type": "code",
   "execution_count": 95,
   "id": "efa306fd-50aa-4cba-8e63-21b5c938961a",
   "metadata": {},
   "outputs": [
    {
     "ename": "TypeError",
     "evalue": "Can't instantiate abstract class Account with abstract method description",
     "output_type": "error",
     "traceback": [
      "\u001b[0;31m---------------------------------------------------------------------------\u001b[0m",
      "\u001b[0;31mTypeError\u001b[0m                                 Traceback (most recent call last)",
      "Cell \u001b[0;32mIn[95], line 1\u001b[0m\n\u001b[0;32m----> 1\u001b[0m A \u001b[38;5;241m=\u001b[39m \u001b[43mAccount\u001b[49m\u001b[43m(\u001b[49m\u001b[38;5;124;43m'\u001b[39;49m\u001b[38;5;124;43m12345\u001b[39;49m\u001b[38;5;124;43m'\u001b[39;49m\u001b[43m,\u001b[49m\u001b[38;5;241;43m500\u001b[39;49m\u001b[43m)\u001b[49m\n\u001b[1;32m      2\u001b[0m \u001b[38;5;28mprint\u001b[39m(\u001b[38;5;124m\"\u001b[39m\u001b[38;5;124mFor Account A\u001b[39m\u001b[38;5;124m\"\u001b[39m)\n\u001b[1;32m      3\u001b[0m \u001b[38;5;28mprint\u001b[39m(\u001b[38;5;124m\"\u001b[39m\u001b[38;5;124mAc no: \u001b[39m\u001b[38;5;132;01m{0}\u001b[39;00m\u001b[38;5;124m, balance = \u001b[39m\u001b[38;5;132;01m{1}\u001b[39;00m\u001b[38;5;124m\"\u001b[39m\u001b[38;5;241m.\u001b[39mformat(A\u001b[38;5;241m.\u001b[39mget_account_number(), A\u001b[38;5;241m.\u001b[39mget_balance()))\n",
      "\u001b[0;31mTypeError\u001b[0m: Can't instantiate abstract class Account with abstract method description"
     ]
    }
   ],
   "source": [
    "A = Account('12345',500)\n",
    "print(\"For Account A\")\n",
    "print(\"Ac no: {0}, balance = {1}\".format(A.get_account_number(), A.get_balance()))\n",
    "print(A.deposit(-8))\n",
    "print(A.deposit(1000))\n",
    "print(A.withdraw(-3))\n",
    "print(A.withdraw(8000))\n",
    "print(A.withdraw(100))\n",
    "\n"
   ]
  },
  {
   "cell_type": "code",
   "execution_count": 96,
   "id": "7b01c6f0-1c46-43c0-96e3-d84c4c0c0e47",
   "metadata": {},
   "outputs": [
    {
     "name": "stdout",
     "output_type": "stream",
     "text": [
      "For SavingsAccount S\n",
      "Ac no: 333355, balance = 900, interest = 0.03, description: Savings Account\n",
      "Annual Interest: 27.0\n"
     ]
    }
   ],
   "source": [
    "S = SavingsAccount('333355', 900, 0.03)\n",
    "print(\"For SavingsAccount S\")\n",
    "print(\"Ac no: {0}, balance = {1}, interest = {2}, description: {3}\".format(S.get_account_number(), S.get_balance(), S.interest, S.description()))\n",
    "print(S.annual_interest())\n"
   ]
  },
  {
   "cell_type": "code",
   "execution_count": 97,
   "id": "a62fd71b-21c8-4d3c-bebc-37afd5080b0f",
   "metadata": {},
   "outputs": [
    {
     "name": "stdout",
     "output_type": "stream",
     "text": [
      "For SavingsAccount S1\n",
      "Ac no: 333323355, balance = 980, interest = 0.02, description: Savings Account\n"
     ]
    }
   ],
   "source": [
    "S1 = SavingsAccount('333323355', 980)\n",
    "print(\"For SavingsAccount S1\")\n",
    "print(\"Ac no: {0}, balance = {1}, interest = {2}, description: {3}\".format(S1.get_account_number(), S1.get_balance(), S1.interest, S1.description()))\n",
    "\n"
   ]
  },
  {
   "cell_type": "code",
   "execution_count": 103,
   "id": "39208484-f7b2-43cb-baa0-a7132706ec0f",
   "metadata": {},
   "outputs": [
    {
     "name": "stdout",
     "output_type": "stream",
     "text": [
      "For CurrentAccount C\n",
      "Ac no: 344433355, balance = 500, overdraft = 200, description: Current Account\n",
      "Balance: 3500\n",
      "Balance: 1500\n",
      "Insufficient Funds\n",
      "Balance: 1400\n"
     ]
    }
   ],
   "source": [
    "C = CurrentAccount('344433355', 500, 200)\n",
    "print(\"For CurrentAccount C\")\n",
    "print(\"Ac no: {0}, balance = {1}, overdraft = {2}, description: {3}\".format(C.get_account_number(), C.get_balance(), C.overdraft, C.description()))\n",
    "print(C.deposit(3000))\n",
    "print(C.withdraw(2000))\n",
    "print(C.withdraw(10000))\n",
    "print(C.withdraw(100))\n"
   ]
  },
  {
   "cell_type": "code",
   "execution_count": 99,
   "id": "91ba9f55-93b3-466f-b249-9774ef82d172",
   "metadata": {},
   "outputs": [
    {
     "name": "stdout",
     "output_type": "stream",
     "text": [
      "For CurrentAccount C1\n",
      "Ac no: 3337855, balance = 1000, overdraft = 100, description: Current Account\n"
     ]
    }
   ],
   "source": [
    "C1 = CurrentAccount('3337855', 1000)\n",
    "print(\"For CurrentAccount C1\")\n",
    "print(\"Ac no: {0}, balance = {1}, overdraft = {2}, description: {3}\".format(C1.get_account_number(), C1.get_balance(), C1.overdraft, C1.description()))\n",
    "\n"
   ]
  },
  {
   "cell_type": "code",
   "execution_count": 100,
   "id": "3caf2611-9f77-46ac-8655-fb539c5c3708",
   "metadata": {},
   "outputs": [
    {
     "name": "stdout",
     "output_type": "stream",
     "text": [
      "No: of accounts with overdraft greater than the balance:  1\n"
     ]
    }
   ],
   "source": [
    "accounts = [S,C,S1,C1]\n",
    "\n",
    "count=0\n",
    "\n",
    "for account in accounts:\n",
    "    if hasattr(account, 'overdraft'):\n",
    "        if account.overdraft > account.get_balance():\n",
    "            count += 1\n",
    "print(\"No: of accounts with overdraft greater than the balance: \", count)"
   ]
  }
 ],
 "metadata": {
  "kernelspec": {
   "display_name": "Python 3 (ipykernel)",
   "language": "python",
   "name": "python3"
  },
  "language_info": {
   "codemirror_mode": {
    "name": "ipython",
    "version": 3
   },
   "file_extension": ".py",
   "mimetype": "text/x-python",
   "name": "python",
   "nbconvert_exporter": "python",
   "pygments_lexer": "ipython3",
   "version": "3.10.12"
  }
 },
 "nbformat": 4,
 "nbformat_minor": 5
}
