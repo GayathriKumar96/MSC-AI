{
 "cells": [
  {
   "cell_type": "code",
   "execution_count": 2,
   "id": "8f1a3e1d-4aba-4103-a11f-b90e23788f8b",
   "metadata": {},
   "outputs": [],
   "source": [
    "import random\n",
    "\n",
    "hand_list = ['Sp','Ro','Sc','Pa','Li']\n",
    "score_hand = {'Sp':1,'Ro':1,'Sc':1,'Pa':2,'Li':2}\n",
    "hand_beats = {'Sp': ['Sc','Ro'],'Ro':['Sc','Li'],'Sc':['Pa','Li'],'Pa':['Ro','Sp'],'Li':['Pa','Sp']}"
   ]
  },
  {
   "cell_type": "code",
   "execution_count": 3,
   "id": "61dac0a4-b6ec-4877-8a5d-277a09c9fb17",
   "metadata": {},
   "outputs": [],
   "source": [
    "#Task 1\n",
    "\n",
    "def generate_game(n):\n",
    "    game_list = []\n",
    "    for i in range(n):\n",
    "        round = (hand_list[random.randint(0,4)],hand_list[random.randint(0,4)])\n",
    "        game_list.append(round)\n",
    "    return game_list\n",
    "\n",
    "#print(generate_game(10))"
   ]
  },
  {
   "cell_type": "code",
   "execution_count": 11,
   "id": "38bdf47d-328b-4cc3-b30d-82553cc7a633",
   "metadata": {},
   "outputs": [
    {
     "name": "stdout",
     "output_type": "stream",
     "text": [
      "[('Sp', 'Ro'), ('Ro', 'Li'), ('Pa', 'Sc'), ('Pa', 'Sp'), ('Sc', 'Sp')]\n",
      "(22, 16)\n"
     ]
    }
   ],
   "source": [
    "#Task 2\n",
    "\n",
    "def score(game_list):\n",
    "    p1_score = 0\n",
    "    p2_score = 0\n",
    "    for round in game_list:\n",
    "        p1_score += score_hand[round[0]]\n",
    "        p2_score += score_hand[round[1]]\n",
    "        if round[0] in hand_beats[round[1]]:\n",
    "            p2_score += 5\n",
    "        elif round[1] in hand_beats[round[0]]:\n",
    "            p1_score += 5\n",
    "        else:\n",
    "            p1_score += 3\n",
    "            p2_score += 3\n",
    "    return (p1_score,p2_score)\n",
    "\n",
    "g =  generate_game(5)\n",
    "print(g)\n",
    "print(score(g))"
   ]
  },
  {
   "cell_type": "code",
   "execution_count": 12,
   "id": "01d3b65a-b276-41e8-a094-e50773870c43",
   "metadata": {},
   "outputs": [
    {
     "name": "stdout",
     "output_type": "stream",
     "text": [
      "('Pa', 'Sp')\n"
     ]
    }
   ],
   "source": [
    "#Task 3\n",
    "\n",
    "def common_hand(game_list):\n",
    "    count1 = {}\n",
    "    count2 = {}\n",
    "    for round in game_list:\n",
    "        if round[0] not in count1.keys():\n",
    "            count1[round[0]] = 0\n",
    "        count1[round[0]] += 1\n",
    "        if round[1] not in count2.keys():\n",
    "            count2[round[1]] = 0\n",
    "        count2[round[1]] += 1\n",
    "    max1 = max(count1.values())\n",
    "    max2 = max(count2.values())\n",
    "\n",
    "    common_hand_1 = []\n",
    "    common_hand_2 = []\n",
    "    for k in count1.keys():\n",
    "        if count1[k] == max1:\n",
    "            common_hand_1.append(k)\n",
    "    for k in count2.keys():\n",
    "        if count2[k] == max2:\n",
    "            common_hand_2.append(k)\n",
    "    if len(common_hand_1) == 1:\n",
    "        common_hand_1 = common_hand_1[0]\n",
    "    if len(common_hand_2) == 1:\n",
    "            common_hand_2 = common_hand_2[0]\n",
    "\n",
    "    return (common_hand_1, common_hand_2)\n",
    "    \n",
    "\n",
    "print(common_hand(g))"
   ]
  }
 ],
 "metadata": {
  "kernelspec": {
   "display_name": "Python 3 (ipykernel)",
   "language": "python",
   "name": "python3"
  },
  "language_info": {
   "codemirror_mode": {
    "name": "ipython",
    "version": 3
   },
   "file_extension": ".py",
   "mimetype": "text/x-python",
   "name": "python",
   "nbconvert_exporter": "python",
   "pygments_lexer": "ipython3",
   "version": "3.10.12"
  }
 },
 "nbformat": 4,
 "nbformat_minor": 5
}
