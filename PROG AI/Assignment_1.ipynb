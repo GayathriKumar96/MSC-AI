{
 "cells": [
  {
   "cell_type": "code",
   "execution_count": 2,
   "id": "8f1a3e1d-4aba-4103-a11f-b90e23788f8b",
   "metadata": {},
   "outputs": [],
   "source": [
    "import random\n",
    "\n",
    "hand_list = ['Sp','Ro','Sc','Pa','Li'] # List of hands in the game\n",
    "score_hand = {'Sp':1,'Ro':1,'Sc':1,'Pa':2,'Li':2} # Score of each hand\n",
    "#Keys are each hand, values are a list of hands the key hand can defeat\n",
    "hand_beats = {'Sp': ['Sc','Ro'],'Ro':['Sc','Li'],'Sc':['Pa','Li'],'Pa':['Ro','Sp'],'Li':['Pa','Sp']} "
   ]
  },
  {
   "cell_type": "code",
   "execution_count": 3,
   "id": "61dac0a4-b6ec-4877-8a5d-277a09c9fb17",
   "metadata": {},
   "outputs": [
    {
     "name": "stdout",
     "output_type": "stream",
     "text": [
      "[('Pa', 'Li'), ('Sc', 'Sc'), ('Ro', 'Ro'), ('Sp', 'Ro'), ('Sp', 'Li'), ('Ro', 'Sp'), ('Sp', 'Sc'), ('Ro', 'Sp'), ('Sc', 'Pa'), ('Ro', 'Li')]\n"
     ]
    }
   ],
   "source": [
    "#Task 1\n",
    "\"\"\"Function to generate a game with a list of n rounds, \n",
    "each round having a tuple of a pair of hand played by the players\"\"\"\n",
    "\n",
    "def generate_game(n):\n",
    "    game_list = [(hand_list[random.randint(0,4)],hand_list[random.randint(0,4)]) for i in range(n)]\n",
    "    return game_list\n",
    "\n",
    "n = 10\n",
    "print(generate_game(n))"
   ]
  },
  {
   "cell_type": "code",
   "execution_count": 4,
   "id": "38bdf47d-328b-4cc3-b30d-82553cc7a633",
   "metadata": {},
   "outputs": [
    {
     "name": "stdout",
     "output_type": "stream",
     "text": [
      "[('Ro', 'Li'), ('Li', 'Ro'), ('Sc', 'Sp'), ('Ro', 'Pa'), ('Ro', 'Sc')]\n",
      "(16, 22)\n"
     ]
    }
   ],
   "source": [
    "#Task 2\n",
    "\n",
    "\"\"\"Function to calculate the total scores of players 1 and 2 among all the rounds of a game\"\"\"\n",
    "\n",
    "def score(game_list):\n",
    "    p1_score = 0\n",
    "    p2_score = 0\n",
    "    for round in game_list:\n",
    "        p1_score += score_hand[round[0]]\n",
    "        p2_score += score_hand[round[1]]\n",
    "        if round[0] in hand_beats[round[1]]:\n",
    "            p2_score += 5\n",
    "        elif round[1] in hand_beats[round[0]]:\n",
    "            p1_score += 5\n",
    "        else:\n",
    "            p1_score += 3\n",
    "            p2_score += 3\n",
    "    return (p1_score,p2_score)\n",
    "\n",
    "n1 = 5\n",
    "g =  generate_game(n1)\n",
    "print(g)\n",
    "print(score(g))"
   ]
  },
  {
   "cell_type": "code",
   "execution_count": 43,
   "id": "01d3b65a-b276-41e8-a094-e50773870c43",
   "metadata": {},
   "outputs": [
    {
     "name": "stdout",
     "output_type": "stream",
     "text": [
      "[('Sp', 'Ro'), ('Sp', 'Sp'), ('Sp', 'Li'), ('Sp', 'Ro'), ('Li', 'Li')]\n",
      "('Sp', 'Ro')\n"
     ]
    }
   ],
   "source": [
    "#Task 3\n",
    "\n",
    "\"\"\"Function that returns the most common hand played by each player in a game\"\"\"\n",
    "\n",
    "def common_hand_calculation(round_i):\n",
    "    count = {}\n",
    "    for element in round_i:\n",
    "        if element not in count.keys():\n",
    "            count[element] = 0\n",
    "        count[element] += 1\n",
    "    max_value = max(count.values())\n",
    "    for k in count.keys():\n",
    "        if count[k] == max_value:\n",
    "            common_hand = k\n",
    "            break \n",
    "    return common_hand\n",
    "\n",
    "def common_hand(game_list):\n",
    "    round_0 = [round[0] for round in game_list]\n",
    "    round_1 = [round[1] for round in game_list]\n",
    "    return (common_hand_calculation(round_0), common_hand_calculation(round_1))\n",
    "    \n",
    "print(g)\n",
    "print(common_hand(g))"
   ]
  },
  {
   "cell_type": "code",
   "execution_count": 19,
   "id": "0eac7154-b04f-49c6-963b-77d76fab7b69",
   "metadata": {},
   "outputs": [
    {
     "name": "stdout",
     "output_type": "stream",
     "text": [
      "[[('Sc', 'Li'), ('Sc', 'Sp'), ('Sc', 'Li'), ('Sp', 'Ro'), ('Sc', 'Pa')], [('Li', 'Ro'), ('Sp', 'Ro'), ('Li', 'Ro'), ('Ro', 'Sp'), ('Pa', 'Sp')], [('Li', 'Ro'), ('Li', 'Ro'), ('Li', 'Sc'), ('Li', 'Sp'), ('Ro', 'Sc')], [('Sp', 'Sc'), ('Sc', 'Sp'), ('Sc', 'Sc'), ('Pa', 'Li'), ('Pa', 'Sp')], [('Sc', 'Sp'), ('Sc', 'Pa'), ('Sc', 'Pa'), ('Sc', 'Li'), ('Sc', 'Sc')]]\n",
      "('Li', 'Sc')\n"
     ]
    }
   ],
   "source": [
    "#Task 4\n",
    "\n",
    "\"\"\"Function that takes a list of games and returns the most common pair of hands occured in all the rounds\"\"\"\n",
    "\n",
    "def common_pair(games_list):\n",
    "    pair_count = {}\n",
    "    for game_list in games_list:\n",
    "        for round in game_list:\n",
    "            element = tuple(sorted(list(round)))\n",
    "            if element not in pair_count.keys():\n",
    "                pair_count[element] = 0\n",
    "            pair_count[element] += 1\n",
    "    max_count = max(pair_count.values())\n",
    "    for k in pair_count.keys():\n",
    "        if pair_count[k] == max_count:\n",
    "            return k\n",
    "\n",
    "n2 = 5\n",
    "games_list = [generate_game(n1) for i in range(n2)]\n",
    "\n",
    "print(games_list)\n",
    "print(common_pair(games_list))\n"
   ]
  },
  {
   "cell_type": "code",
   "execution_count": 20,
   "id": "174ba149-4083-4ebb-9116-c6307a6aead4",
   "metadata": {},
   "outputs": [
    {
     "name": "stdout",
     "output_type": "stream",
     "text": [
      "[[('Sc', 'Li'), ('Sc', 'Sp'), ('Sc', 'Li'), ('Sp', 'Ro'), ('Sc', 'Pa')], [('Li', 'Ro'), ('Sp', 'Ro'), ('Li', 'Ro'), ('Ro', 'Sp'), ('Pa', 'Sp')], [('Li', 'Ro'), ('Li', 'Ro'), ('Li', 'Sc'), ('Li', 'Sp'), ('Ro', 'Sc')], [('Sp', 'Sc'), ('Sc', 'Sp'), ('Sc', 'Sc'), ('Pa', 'Li'), ('Pa', 'Sp')], [('Sc', 'Sp'), ('Sc', 'Pa'), ('Sc', 'Pa'), ('Sc', 'Li'), ('Sc', 'Sc')]]\n",
      "[('Sc', 7), ('Sp', 7)]\n"
     ]
    }
   ],
   "source": [
    "#Task 5\n",
    "\n",
    "\"\"\"Function that takes a list of games and returns the hand that won most rounds with its count of rounds won\"\"\"\n",
    "\n",
    "winning_hand_count = {}\n",
    "\n",
    "def calculate_hand_wins(round_a, round_b):\n",
    "    if round_a in hand_beats[round_b]:\n",
    "        if round_b not in winning_hand_count.keys():\n",
    "            winning_hand_count[round_b] = 0\n",
    "        winning_hand_count[round_b] += 1\n",
    "\n",
    "def winning_hand(games_list):\n",
    "    all_rounders = []\n",
    "    for game_list in games_list:\n",
    "        for round in game_list:\n",
    "            calculate_hand_wins(round[0],round[1])\n",
    "            calculate_hand_wins(round[1],round[0])\n",
    "    max_count = max(winning_hand_count.values())\n",
    "    for k in winning_hand_count.keys():\n",
    "        if winning_hand_count[k] == max_count:\n",
    "            all_rounders.append((k,max_count))\n",
    "    if len(all_rounders) == 1:\n",
    "        return all_rounders[0]\n",
    "    return all_rounders\n",
    "\n",
    "print(games_list)\n",
    "print(winning_hand(games_list))"
   ]
  }
 ],
 "metadata": {
  "kernelspec": {
   "display_name": "Python 3 (ipykernel)",
   "language": "python",
   "name": "python3"
  },
  "language_info": {
   "codemirror_mode": {
    "name": "ipython",
    "version": 3
   },
   "file_extension": ".py",
   "mimetype": "text/x-python",
   "name": "python",
   "nbconvert_exporter": "python",
   "pygments_lexer": "ipython3",
   "version": "3.10.1"
  }
 },
 "nbformat": 4,
 "nbformat_minor": 5
}
