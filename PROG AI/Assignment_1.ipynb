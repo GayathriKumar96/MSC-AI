{
 "cells": [
  {
   "cell_type": "code",
   "execution_count": 20,
   "id": "8f1a3e1d-4aba-4103-a11f-b90e23788f8b",
   "metadata": {},
   "outputs": [],
   "source": [
    "import random\n",
    "\n",
    "hand_list = ['Sp','Ro','Sc','Pa','Li']\n",
    "score_hand = {'Sp':1,'Ro':1,'Sc':1,'Pa':2,'Li':2}\n",
    "hand_beats = {'Sp': ['Sc','Ro'],'Ro':['Sc','Li'],'Sc':['Pa','Li'],'Pa':['Ro','Sp'],'Li':['Pa','Sp']}"
   ]
  },
  {
   "cell_type": "code",
   "execution_count": 21,
   "id": "61dac0a4-b6ec-4877-8a5d-277a09c9fb17",
   "metadata": {},
   "outputs": [],
   "source": [
    "#Task 1\n",
    "\n",
    "def generate_game(n):\n",
    "    game_list = []\n",
    "    for i in range(n):\n",
    "        round = (hand_list[random.randint(0,4)],hand_list[random.randint(0,4)])\n",
    "        game_list.append(round)\n",
    "    return game_list\n",
    "\n",
    "#print(generate_game(10))"
   ]
  },
  {
   "cell_type": "code",
   "execution_count": 28,
   "id": "38bdf47d-328b-4cc3-b30d-82553cc7a633",
   "metadata": {},
   "outputs": [
    {
     "name": "stdout",
     "output_type": "stream",
     "text": [
      "[('Sc', 'Sp'), ('Sp', 'Sc'), ('Sp', 'Pa'), ('Li', 'Pa'), ('Pa', 'Pa')]\n",
      "(20, 21)\n"
     ]
    }
   ],
   "source": [
    "#Task 2\n",
    "\n",
    "def score(game_list):\n",
    "    p1_score = 0\n",
    "    p2_score = 0\n",
    "    for round in game_list:\n",
    "        p1_score += score_hand[round[0]]\n",
    "        p2_score += score_hand[round[1]]\n",
    "        if round[0] in hand_beats[round[1]]:\n",
    "            p2_score += 5\n",
    "        elif round[1] in hand_beats[round[0]]:\n",
    "            p1_score += 5\n",
    "        else:\n",
    "            p1_score += 3\n",
    "            p2_score += 3\n",
    "    return (p1_score,p2_score)\n",
    "\n",
    "g = [('Sc', 'Sp'), ('Sp', 'Sc'), ('Sp', 'Pa'), ('Li', 'Pa'), ('Pa', 'Pa')] #generate_game(5)\n",
    "print(g)\n",
    "print(score(g))"
   ]
  }
 ],
 "metadata": {
  "kernelspec": {
   "display_name": "Python 3 (ipykernel)",
   "language": "python",
   "name": "python3"
  },
  "language_info": {
   "codemirror_mode": {
    "name": "ipython",
    "version": 3
   },
   "file_extension": ".py",
   "mimetype": "text/x-python",
   "name": "python",
   "nbconvert_exporter": "python",
   "pygments_lexer": "ipython3",
   "version": "3.10.1"
  }
 },
 "nbformat": 4,
 "nbformat_minor": 5
}
