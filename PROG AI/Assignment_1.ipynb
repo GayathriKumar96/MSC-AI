{
 "cells": [
  {
   "cell_type": "code",
   "execution_count": 13,
   "id": "8f1a3e1d-4aba-4103-a11f-b90e23788f8b",
   "metadata": {},
   "outputs": [],
   "source": [
    "import random\n",
    "\n",
    "hand_list = ['Sp','Ro','Sc','Pa','Li']\n",
    "score_hand = {'Sp':1,'Ro':1,'Sc':1,'Pa':2,'Li':2}\n",
    "hand_beats = {'Sp': ['Sc','Ro'],'Ro':['Sc','Li'],'Sc':['Pa','Li'],'Pa':['Ro','Sp'],'Li':['Pa','Sp']}"
   ]
  },
  {
   "cell_type": "code",
   "execution_count": 14,
   "id": "61dac0a4-b6ec-4877-8a5d-277a09c9fb17",
   "metadata": {},
   "outputs": [],
   "source": [
    "#Task 1\n",
    "\n",
    "def generate_game(n):\n",
    "    game_list = []\n",
    "    for i in range(n):\n",
    "        round = (hand_list[random.randint(0,4)],hand_list[random.randint(0,4)])\n",
    "        game_list.append(round)\n",
    "    return game_list\n",
    "\n",
    "#print(generate_game(10))"
   ]
  },
  {
   "cell_type": "code",
   "execution_count": 34,
   "id": "38bdf47d-328b-4cc3-b30d-82553cc7a633",
   "metadata": {},
   "outputs": [
    {
     "name": "stdout",
     "output_type": "stream",
     "text": [
      "[('Sc', 'Li'), ('Ro', 'Ro'), ('Sc', 'Ro'), ('Pa', 'Sc'), ('Sp', 'Ro')]\n",
      "(19, 19)\n"
     ]
    }
   ],
   "source": [
    "#Task 2\n",
    "\n",
    "def score(game_list):\n",
    "    p1_score = 0\n",
    "    p2_score = 0\n",
    "    for round in game_list:\n",
    "        p1_score += score_hand[round[0]]\n",
    "        p2_score += score_hand[round[1]]\n",
    "        if round[0] in hand_beats[round[1]]:\n",
    "            p2_score += 5\n",
    "        elif round[1] in hand_beats[round[0]]:\n",
    "            p1_score += 5\n",
    "        else:\n",
    "            p1_score += 3\n",
    "            p2_score += 3\n",
    "    return (p1_score,p2_score)\n",
    "\n",
    "n1 = 5\n",
    "g =  generate_game(n1)\n",
    "print(g)\n",
    "print(score(g))"
   ]
  },
  {
   "cell_type": "code",
   "execution_count": 16,
   "id": "01d3b65a-b276-41e8-a094-e50773870c43",
   "metadata": {},
   "outputs": [
    {
     "name": "stdout",
     "output_type": "stream",
     "text": [
      "('Pa', 'Sp')\n"
     ]
    }
   ],
   "source": [
    "#Task 3\n",
    "\n",
    "def common_hand(game_list):\n",
    "    count1 = {}\n",
    "    count2 = {}\n",
    "    for round in game_list:\n",
    "        if round[0] not in count1.keys():\n",
    "            count1[round[0]] = 0\n",
    "        count1[round[0]] += 1\n",
    "        if round[1] not in count2.keys():\n",
    "            count2[round[1]] = 0\n",
    "        count2[round[1]] += 1\n",
    "    max1 = max(count1.values())\n",
    "    max2 = max(count2.values())\n",
    "\n",
    "    common_hand_1 = []\n",
    "    common_hand_2 = []\n",
    "    for k in count1.keys():\n",
    "        if count1[k] == max1:\n",
    "            common_hand_1 = k\n",
    "            break\n",
    "    for k in count2.keys():\n",
    "        if count2[k] == max2:\n",
    "            common_hand_2 = k\n",
    "            break\n",
    "\n",
    "    return (common_hand_1, common_hand_2)\n",
    "    \n",
    "\n",
    "print(common_hand(g))"
   ]
  },
  {
   "cell_type": "code",
   "execution_count": 38,
   "id": "0eac7154-b04f-49c6-963b-77d76fab7b69",
   "metadata": {},
   "outputs": [
    {
     "name": "stdout",
     "output_type": "stream",
     "text": [
      "[[('Li', 'Sp'), ('Sc', 'Ro'), ('Sc', 'Sc'), ('Li', 'Pa'), ('Sp', 'Ro')], [('Ro', 'Pa'), ('Ro', 'Sc'), ('Ro', 'Pa'), ('Li', 'Li'), ('Sp', 'Sc')], [('Ro', 'Li'), ('Sp', 'Sp'), ('Sc', 'Li'), ('Sp', 'Li'), ('Sc', 'Ro')], [('Pa', 'Sc'), ('Pa', 'Sc'), ('Ro', 'Li'), ('Sp', 'Pa'), ('Pa', 'Ro')], [('Pa', 'Sp'), ('Sp', 'Ro'), ('Li', 'Pa'), ('Li', 'Ro'), ('Sp', 'Sc')]]\n",
      "('Ro', 'Sc')\n"
     ]
    }
   ],
   "source": [
    "#Task 4\n",
    "\n",
    "def common_pair(games_list):\n",
    "    pair_count = {}\n",
    "    for game_list in games_list:\n",
    "        for round in game_list:\n",
    "            element = tuple(sorted(list(round)))\n",
    "            if element not in pair_count.keys():\n",
    "                pair_count[element] = 0\n",
    "            pair_count[element] += 1\n",
    "    max_count = max(pair_count.values())\n",
    "    for k in pair_count.keys():\n",
    "        if pair_count[k] == max_count:\n",
    "            return k\n",
    "\n",
    "n2 = 5\n",
    "games_list = []\n",
    "for i in range(n2):\n",
    "    games_list.append(generate_game(n1))\n",
    "\n",
    "print(games_list)\n",
    "print(common_pair(games_list))\n"
   ]
  },
  {
   "cell_type": "code",
   "execution_count": 37,
   "id": "174ba149-4083-4ebb-9116-c6307a6aead4",
   "metadata": {},
   "outputs": [
    {
     "name": "stdout",
     "output_type": "stream",
     "text": [
      "[('Li', 12), ('Ro', 12)]\n"
     ]
    }
   ],
   "source": [
    "#Task 5\n",
    "\n",
    "def all_rounder_hand(games_list):\n",
    "    round_count = {}\n",
    "    all_rounders = []\n",
    "    for game_list in games_list:\n",
    "        for round in game_list:\n",
    "            for elem in round:\n",
    "                if elem not in round_count.keys():\n",
    "                    round_count[elem] = 0\n",
    "                round_count[elem] += 1\n",
    "    max_count = max(round_count.values())\n",
    "    for k in round_count.keys():\n",
    "        if round_count[k] == max_count:\n",
    "            all_rounders.append((k,max_count))\n",
    "    if len(all_rounders) == 1:\n",
    "        return all_rounders[0]\n",
    "    return all_rounders\n",
    "\n",
    "print(all_rounder_hand(games_list))"
   ]
  }
 ],
 "metadata": {
  "kernelspec": {
   "display_name": "Python 3 (ipykernel)",
   "language": "python",
   "name": "python3"
  },
  "language_info": {
   "codemirror_mode": {
    "name": "ipython",
    "version": 3
   },
   "file_extension": ".py",
   "mimetype": "text/x-python",
   "name": "python",
   "nbconvert_exporter": "python",
   "pygments_lexer": "ipython3",
   "version": "3.10.1"
  }
 },
 "nbformat": 4,
 "nbformat_minor": 5
}
