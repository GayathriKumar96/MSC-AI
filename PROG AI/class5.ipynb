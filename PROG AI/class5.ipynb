{
 "cells": [
  {
   "cell_type": "code",
   "execution_count": 13,
   "id": "adefb0a5-e926-49e3-aa71-6a25521d7e1c",
   "metadata": {},
   "outputs": [
    {
     "name": "stdout",
     "output_type": "stream",
     "text": [
      "[0, 1, 1, 2, 3, 5, 8, 13, 21, 34, 55, 89, 144, 233, 377, 610, 987, 1597, 2584, 4181, 6765, 10946, 17711]\n"
     ]
    }
   ],
   "source": [
    "\"\"\"\n",
    "1. Implement a recursive func/on to compute the nth Fibonacci number. \n",
    "The func/on should accept 3 arguments, two of them should have \n",
    "default values. The recursion begins with a single argument \n",
    "\"\"\"\n",
    "\n",
    "def Fib(n,a=0,b=1):\n",
    "    if n<1:\n",
    "        return \"Invalid!\"\n",
    "    elif n==1:\n",
    "        return [a]\n",
    "    elif n==2:\n",
    "        return [a,b]\n",
    "    return [a,b] + Fib(n-2,a+b,a+2*b)\n",
    "\n",
    "print(Fib(23))"
   ]
  },
  {
   "cell_type": "code",
   "execution_count": 15,
   "id": "285edf22-41da-4023-851f-53a26cde10b8",
   "metadata": {},
   "outputs": [
    {
     "name": "stdout",
     "output_type": "stream",
     "text": [
      "[3, 6, 9, 222, 987]\n"
     ]
    }
   ],
   "source": [
    "\"\"\"\n",
    "2. Using a lambda, use filter() to accept a list and filter the integers that are \n",
    "divisible by 3. Use the modulus operator. \n",
    "\"\"\"\n",
    "nums = [1,2,3,4,5,6,7,8,9,10,1111,222,55,987,20]\n",
    "\n",
    "print(list(filter(lambda x: x%3==0,nums)))\n"
   ]
  },
  {
   "cell_type": "code",
   "execution_count": 18,
   "id": "6e5ea26e-ab0a-4289-b47f-3c289cbf54e3",
   "metadata": {},
   "outputs": [
    {
     "name": "stdout",
     "output_type": "stream",
     "text": [
      "[[1, 1], [4, 4], [9, 9]]\n"
     ]
    }
   ],
   "source": [
    "\"\"\"\n",
    "3. Using a lambda, use filter() to accept a list of pairs and accept the pairs \n",
    "whose elements are equal.\n",
    "\"\"\"\n",
    "\n",
    "a = [[1,1], [2, 5], [4, 4], [9, 9], [5, 3]]\n",
    "\n",
    "print(list(filter(lambda l: l[0]==l[1],a)))"
   ]
  },
  {
   "cell_type": "code",
   "execution_count": 20,
   "id": "267a8bf4-7c39-446a-9bd7-a1db56eed437",
   "metadata": {},
   "outputs": [
    {
     "name": "stdout",
     "output_type": "stream",
     "text": [
      "[9, 9, 76, 23]\n"
     ]
    }
   ],
   "source": [
    "\"\"\"\n",
    "4. Using a lambda, implement a map() that accepts a list of lists and returns \n",
    "the sums of the sublists.\n",
    "\"\"\"\n",
    "\n",
    "a = [[1, 5, 3], [3, 6], [9, 11, 45, 11], [5, 2, 6, 3, 7]]\n",
    "\n",
    "print(list(map(lambda x: sum(x), a)))"
   ]
  },
  {
   "cell_type": "code",
   "execution_count": 27,
   "id": "df2ea8bd-642c-497d-91cf-dde279534764",
   "metadata": {},
   "outputs": [
    {
     "name": "stdout",
     "output_type": "stream",
     "text": [
      "10! = 3628800\n",
      "17! = 355687428096000\n",
      "22! = 1124000727777607680000\n",
      "31! = 8222838654177922817725562880000000\n",
      "\n",
      "\n",
      "Using math.factorial\n",
      "\n",
      "10! =  3628800\n",
      "17! =  355687428096000\n",
      "22! =  1124000727777607680000\n",
      "31! =  8222838654177922817725562880000000\n"
     ]
    }
   ],
   "source": [
    "\"\"\"\n",
    "5. * Use the reduce() func/on to implement factorial, N!. \n",
    "3! = 1 x 2 x 3 = 6 \n",
    "5! = 1 x 2 x 3 x 4 x 5 = 120 \n",
    "N! = 1 x 2 x … x N – 1 x N \n",
    "You will need to generate a list to call your solu/on as reduce operates \n",
    "on lists. \n",
    "args_for_10 = list (range (1, 11)) \n",
    "args_for_17 = list (range (1, 18)) and so on… \n",
    "Import Python’s factorial func/on from Python’s math package and verify \n",
    "your solu/on agrees with the Python’s factorial for 10, 17, 22 and 31. \n",
    "\"\"\"\n",
    "\n",
    "from functools import reduce\n",
    "from math import factorial\n",
    "\n",
    "args_for_10 = list (range (1, 11))\n",
    "args_for_17 = list (range (1, 18))\n",
    "args_for_22 = list (range (1, 23))\n",
    "args_for_31 = list (range (1, 32))\n",
    "\n",
    "print(\"10!\",end = ' = ')\n",
    "print(reduce(lambda arg, cumulative: arg * cumulative, args_for_10))\n",
    "\n",
    "print(\"17!\",end = ' = ')\n",
    "print(reduce(lambda arg, cumulative: arg * cumulative, args_for_17))\n",
    "\n",
    "print(\"22!\",end = ' = ')\n",
    "print(reduce(lambda arg, cumulative: arg * cumulative, args_for_22))\n",
    "\n",
    "print(\"31!\",end = ' = ')\n",
    "print(reduce(lambda arg, cumulative: arg * cumulative, args_for_31))\n",
    "\n",
    "print(\"\\n\\nUsing math.factorial\\n\")\n",
    "\n",
    "print(\"10! = \",factorial(10))\n",
    "print(\"17! = \",factorial(17))\n",
    "print(\"22! = \",factorial(22))\n",
    "print(\"31! = \",factorial(31))\n",
    "\n",
    "\n"
   ]
  },
  {
   "cell_type": "code",
   "execution_count": null,
   "id": "5e4971e1-5110-49c5-a4b6-fffc10f36328",
   "metadata": {},
   "outputs": [],
   "source": [
    "\"\"\"\n",
    "6. Write a func/on, called Convolve, that accepts three arguments. The \n",
    "first argument is a func/on. The second and third arguments will be \n",
    "used as arguments for the first argument by Convolve. Convolve will \n",
    "return the results packaged in a list. For example: \n",
    "Convolve (map, exercise 4 lambda, exercise 4 input) -> [9, 9, 76, 23]\n",
    "\"\"\"\n",
    "\n",
    "def Convolve(map_func, lambda_expr, input):\n",
    "    pass\n",
    "\n",
    "a = [[1, 5, 3], [3, 6], [9, 11, 45, 11], [5, 2, 6, 3, 7]]\n",
    "print(Convolve(map,lambda x: sum(x),a))"
   ]
  }
 ],
 "metadata": {
  "kernelspec": {
   "display_name": "Python 3 (ipykernel)",
   "language": "python",
   "name": "python3"
  },
  "language_info": {
   "codemirror_mode": {
    "name": "ipython",
    "version": 3
   },
   "file_extension": ".py",
   "mimetype": "text/x-python",
   "name": "python",
   "nbconvert_exporter": "python",
   "pygments_lexer": "ipython3",
   "version": "3.10.12"
  }
 },
 "nbformat": 4,
 "nbformat_minor": 5
}
