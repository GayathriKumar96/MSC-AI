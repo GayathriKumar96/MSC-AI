{
 "cells": [
  {
   "cell_type": "markdown",
   "id": "19a699f7-1a02-46cc-b5c1-0c9fa5d71274",
   "metadata": {},
   "source": [
    "# Clustering"
   ]
  },
  {
   "cell_type": "markdown",
   "id": "9740fdd1-42b9-4d56-a40d-63a3e364ffa6",
   "metadata": {},
   "source": [
    "Creating sample data for clustering."
   ]
  },
  {
   "cell_type": "code",
   "execution_count": null,
   "id": "6c88388e-2eb4-4a88-b7f9-0c0ef77a877d",
   "metadata": {},
   "outputs": [],
   "source": [
    "from sklearn.datasets import make_blobs\n",
    "import matplotlib.pyplot as plt"
   ]
  },
  {
   "cell_type": "code",
   "execution_count": null,
   "id": "933095f3-6942-44f1-ad78-6b4d28e4416f",
   "metadata": {},
   "outputs": [],
   "source": [
    "# create dataset\n",
    "X, y = make_blobs(\n",
    "    n_samples = 150,\n",
    "    n_features = 2,\n",
    "    centers = 3,\n",
    "    cluster_std = 0.5,\n",
    "    shuffle = True,\n",
    "    random_state = 0\n",
    ")"
   ]
  },
  {
   "cell_type": "code",
   "execution_count": null,
   "id": "c79d7fa1-c460-4387-93eb-4d7613309d03",
   "metadata": {},
   "outputs": [],
   "source": [
    "X, y"
   ]
  },
  {
   "cell_type": "markdown",
   "id": "a817aa79-bb5e-4466-b6dc-0d2262659a55",
   "metadata": {},
   "source": [
    "---\n",
    "Visualise the data using `matplotlib`."
   ]
  },
  {
   "cell_type": "code",
   "execution_count": null,
   "id": "efa61f7b-bf1a-4fbf-a61a-5f6f068db367",
   "metadata": {},
   "outputs": [],
   "source": [
    "# plot\n",
    "plt.scatter(\n",
    "    X[:, 0],\n",
    "    X[:, 1],\n",
    "    c = 'white',\n",
    "    marker = 'o',\n",
    "    edgecolor = 'black',\n",
    "    s = 50)\n",
    "plt.show()"
   ]
  },
  {
   "attachments": {},
   "cell_type": "markdown",
   "id": "d6d02b91-2fec-494f-8143-03dd0435cbea",
   "metadata": {},
   "source": [
    "## Running K-means\n",
    "\n",
    "We will be running K-Means, but there are other clustering methods available on scikit-learn:\n",
    "\n",
    "https://scikit-learn.org/stable/modules/clustering.html"
   ]
  },
  {
   "cell_type": "code",
   "execution_count": null,
   "id": "b645b77b-26e2-4d0e-be07-d63bdb13f22a",
   "metadata": {},
   "outputs": [],
   "source": []
  },
  {
   "cell_type": "code",
   "execution_count": null,
   "id": "bb76a638-8180-4959-86d9-843a9e275510",
   "metadata": {},
   "outputs": [],
   "source": [
    "from sklearn.cluster import KMeans # required import"
   ]
  },
  {
   "cell_type": "code",
   "execution_count": null,
   "id": "874131e4-9ad6-497b-b54a-89756a69e495",
   "metadata": {},
   "outputs": [],
   "source": [
    "km = KMeans(\n",
    "    n_clusters = 3,   # number of clusters\n",
    "    init = 'random',  # centroid initialisation\n",
    "    n_init = 10,      # number of executions\n",
    "    max_iter = 300,   # number of iterations\n",
    "    random_state = 0  # random seed\n",
    ")"
   ]
  },
  {
   "cell_type": "code",
   "execution_count": null,
   "id": "8c6e1cd4-82b4-4177-a7ee-152890ae7d75",
   "metadata": {},
   "outputs": [],
   "source": [
    "y_km = km.fit_predict(X)"
   ]
  },
  {
   "cell_type": "markdown",
   "id": "12f384dc-ecc7-4477-9c2e-8ba317254987",
   "metadata": {},
   "source": [
    "`y_km` containts the prediction of `y` for our input data. In a clustering application, we don't normally know the values of `y` in advance."
   ]
  },
  {
   "cell_type": "code",
   "execution_count": null,
   "id": "7e55cfd9-d825-4c3f-a19b-58be936e7da5",
   "metadata": {},
   "outputs": [],
   "source": [
    "y_km"
   ]
  },
  {
   "cell_type": "markdown",
   "id": "df4d1898-f86f-4099-9b66-61e567bd1b54",
   "metadata": {},
   "source": [
    "## Visualising the clusters"
   ]
  },
  {
   "cell_type": "code",
   "execution_count": null,
   "id": "3f85f00d-602e-4e69-afaa-8cf8f1232b5b",
   "metadata": {},
   "outputs": [],
   "source": [
    "# cluster 1\n",
    "plt.scatter(\n",
    "    X[y_km == 0, 0],\n",
    "    X[y_km == 0, 1],\n",
    "    s = 50,\n",
    "    c = 'lightgreen',\n",
    "    marker = 's',\n",
    "    edgecolor = 'black',\n",
    "    label = 'cluster 1'\n",
    ")\n",
    "\n",
    "# cluster 2\n",
    "plt.scatter(\n",
    "    X[y_km == 1, 0],\n",
    "    X[y_km == 1, 1],\n",
    "    s = 50,\n",
    "    c = 'orange',\n",
    "    marker = 'o',\n",
    "    edgecolor = 'black',\n",
    "    label = 'cluster 2'\n",
    ")\n",
    "\n",
    "# cluster 3\n",
    "plt.scatter(\n",
    "    X[y_km == 2, 0],\n",
    "    X[y_km == 2, 1],\n",
    "    s = 50,\n",
    "    c = 'lightblue',\n",
    "    marker = 'v',\n",
    "    edgecolor = 'black',\n",
    "    label = 'cluster 3'\n",
    ")\n",
    "\n",
    "plt.legend(scatterpoints=1)\n",
    "plt.grid()\n",
    "plt.show()"
   ]
  },
  {
   "cell_type": "markdown",
   "id": "6176f340-5de4-4f5c-b1df-c18403be7d91",
   "metadata": {},
   "source": [
    "Adding the centroids."
   ]
  },
  {
   "cell_type": "code",
   "execution_count": null,
   "id": "d82c2d1d-c626-4e7c-88fe-b41df2772145",
   "metadata": {},
   "outputs": [],
   "source": [
    "km.cluster_centers_"
   ]
  },
  {
   "cell_type": "code",
   "execution_count": null,
   "id": "6f6b1afa-0750-440e-bc03-13cc780ee574",
   "metadata": {},
   "outputs": [],
   "source": [
    "# cluster 1\n",
    "plt.scatter(\n",
    "    X[y_km == 0, 0],\n",
    "    X[y_km == 0, 1],\n",
    "    s = 50,\n",
    "    c = 'lightgreen',\n",
    "    marker = 's',\n",
    "    edgecolor = 'black',\n",
    "    label = 'cluster 1'\n",
    ")\n",
    "\n",
    "# cluster 2\n",
    "plt.scatter(\n",
    "    X[y_km == 1, 0],\n",
    "    X[y_km == 1, 1],\n",
    "    s = 50,\n",
    "    c = 'orange',\n",
    "    marker = 'o',\n",
    "    edgecolor = 'black',\n",
    "    label = 'cluster 2'\n",
    ")\n",
    "\n",
    "# cluster 3\n",
    "plt.scatter(\n",
    "    X[y_km == 2, 0],\n",
    "    X[y_km == 2, 1],\n",
    "    s = 50,\n",
    "    c = 'lightblue',\n",
    "    marker = 'v',\n",
    "    edgecolor = 'black',\n",
    "    label = 'cluster 3'\n",
    ")\n",
    "\n",
    "# plot the centroids\n",
    "plt.scatter(\n",
    "    km.cluster_centers_[:, 0],\n",
    "    km.cluster_centers_[:, 1],\n",
    "    s = 250,\n",
    "    marker = '*',\n",
    "    c = 'red',\n",
    "    edgecolor = 'black',\n",
    "    label = 'centroids'\n",
    ")\n",
    "\n",
    "plt.legend(scatterpoints=1)\n",
    "plt.grid()\n",
    "plt.show()"
   ]
  },
  {
   "cell_type": "markdown",
   "id": "1097f294-7ed3-41fa-8ad9-521bb3e57022",
   "metadata": {},
   "source": [
    "# Handling Missing values"
   ]
  },
  {
   "cell_type": "code",
   "execution_count": null,
   "id": "a34f0c51-de16-4907-8ef6-bb71437763f8",
   "metadata": {},
   "outputs": [],
   "source": [
    "import pandas as pd\n",
    "\n",
    "# titanic dataset\n",
    "data_url = \"http://s3.amazonaws.com/assets.datacamp.com/course/Kaggle/train.csv\"\n",
    "df = pd.read_csv(data_url)\n",
    "df"
   ]
  },
  {
   "cell_type": "code",
   "execution_count": null,
   "id": "40da6bb0-f126-43d2-9af0-c59beef61e09",
   "metadata": {},
   "outputs": [],
   "source": [
    "# prints the number of NaN values per column\n",
    "df.isna().sum()"
   ]
  },
  {
   "attachments": {},
   "cell_type": "markdown",
   "id": "3fef439d-8964-47ab-9f6b-4f0d9c7f0867",
   "metadata": {},
   "source": [
    "----\n",
    "\n",
    "There are a couple of ways to handle missing values:\n",
    "- impute missing values (when a sensible value can be inferred)\n",
    "- remove row/column with missing values"
   ]
  },
  {
   "cell_type": "markdown",
   "id": "66de399a-b884-410e-a3c6-a63b8a747552",
   "metadata": {},
   "source": [
    "### Impute values"
   ]
  },
  {
   "cell_type": "code",
   "execution_count": null,
   "id": "bbac48c2-ced5-4976-90d6-c9310c5c83b4",
   "metadata": {},
   "outputs": [],
   "source": [
    "df['Age'].fillna(df['Age'].mean(), inplace=True)"
   ]
  },
  {
   "cell_type": "code",
   "execution_count": null,
   "id": "de26f480-7216-46f7-8c3e-b347921e3a3e",
   "metadata": {},
   "outputs": [],
   "source": [
    "df"
   ]
  },
  {
   "cell_type": "markdown",
   "id": "0a97e5bf-cb38-4e3a-ae0e-2bd7b3d21caa",
   "metadata": {},
   "source": [
    "### Remove missing"
   ]
  },
  {
   "cell_type": "code",
   "execution_count": null,
   "id": "f98b200a-fc4a-44b4-b134-77f23f601fdf",
   "metadata": {},
   "outputs": [],
   "source": [
    "# if there are too many missing values for a column\n",
    "# consider dropping the entire column\n",
    "\n",
    "df = df.drop(columns=['Cabin'])\n",
    "df"
   ]
  },
  {
   "cell_type": "code",
   "execution_count": null,
   "id": "0ee00f10-bc2e-4890-9331-692e22c68481",
   "metadata": {},
   "outputs": [],
   "source": [
    "# rows with missing values\n",
    "df[df['Embarked'].isna()]"
   ]
  },
  {
   "cell_type": "code",
   "execution_count": null,
   "id": "c55a83bb-6c39-4121-af2b-c8bbf92e6d6e",
   "metadata": {},
   "outputs": [],
   "source": [
    "\n",
    "# remove rows with missing values\n",
    "df.drop(df[df['Embarked'].isna()].index)"
   ]
  },
  {
   "cell_type": "markdown",
   "id": "233de090-1d83-4a2b-913f-bbc79b84ff7d",
   "metadata": {},
   "source": [
    "# Categorical data"
   ]
  },
  {
   "cell_type": "markdown",
   "id": "e8161b75-c899-44fb-9168-255af21144dc",
   "metadata": {},
   "source": [
    "We can use `OneHotEncoder` to create categorical attributes derived from numeric ones."
   ]
  },
  {
   "cell_type": "code",
   "execution_count": null,
   "id": "79751207-a863-42cc-99df-db886529aff9",
   "metadata": {},
   "outputs": [],
   "source": [
    "from sklearn.preprocessing import OneHotEncoder\n",
    "\n",
    "# creates the encoder object\n",
    "enc = OneHotEncoder(handle_unknown='ignore', sparse_output=False)\n",
    "\n",
    "# encodes and replaces the original values on the dataframe\n",
    "values = enc.fit_transform(df.loc[:, ['Sex']])\n",
    "\n",
    "# checks the categories name ['female', 'male']\n",
    "enc.categories_"
   ]
  },
  {
   "cell_type": "code",
   "execution_count": null,
   "id": "15d3e507-7666-4c78-a258-68d83f05741b",
   "metadata": {},
   "outputs": [],
   "source": [
    "values"
   ]
  },
  {
   "cell_type": "code",
   "execution_count": null,
   "id": "0e4ac303-9e2e-4586-abfc-994cd6683dbf",
   "metadata": {},
   "outputs": [],
   "source": [
    "# adds the columns to the dataframe\n",
    "df['Female'] = values[:, 0]\n",
    "df['Male'] = values[:, 1]\n",
    "\n",
    "# removes the categorical column\n",
    "df.drop(columns=['Sex'])"
   ]
  },
  {
   "cell_type": "code",
   "execution_count": null,
   "id": "b1b70fe8-8e77-46cd-bb70-98e9afe8ebbd",
   "metadata": {},
   "outputs": [],
   "source": []
  }
 ],
 "metadata": {
  "kernelspec": {
   "display_name": "Python 3 (ipykernel)",
   "language": "python",
   "name": "python3"
  },
  "language_info": {
   "codemirror_mode": {
    "name": "ipython",
    "version": 3
   },
   "file_extension": ".py",
   "mimetype": "text/x-python",
   "name": "python",
   "nbconvert_exporter": "python",
   "pygments_lexer": "ipython3",
   "version": "3.10.12"
  }
 },
 "nbformat": 4,
 "nbformat_minor": 5
}
