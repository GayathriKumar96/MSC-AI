{
 "cells": [
  {
   "cell_type": "code",
   "execution_count": 8,
   "id": "c9982f82-28b6-47aa-8df0-8e8217da9822",
   "metadata": {},
   "outputs": [
    {
     "name": "stdout",
     "output_type": "stream",
     "text": [
      "['o', 'k', 't']\n"
     ]
    }
   ],
   "source": [
    "\"\"\"1. The following code iterates over a list of words and assigns a fifth letter of each word \n",
    "to the new list fifth_letter. The current version of the code produces an exception. \n",
    "Your task is to include a try/except clause that will allow the code to run and produce a \n",
    "list of the fifth letter in each word, only for the words that are long enough\"\"\"\n",
    "\n",
    "try:\n",
    "    words = [\"chocolate\", \"chicken\", \"soup\", \"potatoes\", \"beef\", \"lox\", \"beef\"]\n",
    "    fifth_letter = []\n",
    "    for w in words:\n",
    "     fifth_letter.append(w[4])\n",
    "    print(fifth_letter)\n",
    "except:\n",
    "    fifth_letter = []\n",
    "    for w in words:\n",
    "        if len(w) < 5:\n",
    "            continue\n",
    "        fifth_letter.append(w[4])\n",
    "    print(fifth_letter)"
   ]
  },
  {
   "cell_type": "code",
   "execution_count": 10,
   "id": "c07d181f-c72d-4d72-b429-9b19315dae5e",
   "metadata": {},
   "outputs": [
    {
     "name": "stdout",
     "output_type": "stream",
     "text": [
      "b\n",
      "None\n"
     ]
    }
   ],
   "source": [
    "\"\"\"The following function is suppose to safely return the element specified by the index \n",
    "from a list of values – i.e., if the index is outside the bounds of the list, it should return \n",
    "the constant None. At the moment, it generates an error. Include a try/except clause to \n",
    "handle the error\"\"\"\n",
    "\n",
    "def get_value(values, index):\n",
    "    return values[index]\n",
    "try:\n",
    "    # sample list data\n",
    "    my_list = ['a', 'b', 'c']\n",
    "    print(get_value(my_list, 1))\n",
    "    print(get_value(my_list, 4))\n",
    "\n",
    "except IndexError:\n",
    "    print(None)"
   ]
  },
  {
   "cell_type": "code",
   "execution_count": 19,
   "id": "9b4c90f1-6e81-40cd-9323-56935ebea95c",
   "metadata": {},
   "outputs": [
    {
     "name": "stdout",
     "output_type": "stream",
     "text": [
      "-0.09691001300805638\n",
      "Log to the base 10 of -0.1 not defined\n",
      "-0.045757490560675115\n",
      "Log to the base 10 of -0.1 not defined\n",
      "-0.9999999999999998\n",
      "-0.5228787452745469\n",
      "Log to the base 10 of -0.1 not defined\n",
      "-0.30102999566398114\n",
      "0.0\n",
      "Log to the base 10 of -0.1 not defined\n",
      "-0.045757490560675115\n",
      "-0.045757490560675115\n",
      "-0.9999999999999998\n",
      "0.0\n",
      "-0.6989700043360187\n",
      "-0.6989700043360187\n",
      "-0.9999999999999998\n",
      "-0.045757490560675115\n",
      "Log to the base 10 of 0.0 not defined\n",
      "0.0\n"
     ]
    }
   ],
   "source": [
    "\"\"\"Write a function called batch_log that calculates and prints the log base 10 value for \n",
    "each element of a list passed as parameter. Use exception handling to skip the \n",
    "calculation of any value that produces an error.\"\"\"\n",
    "import math\n",
    "\n",
    "def batch_log(num_list):\n",
    "    for num in num_list:\n",
    "        try:\n",
    "            print(math.log(num, 10))\n",
    "        except ValueError:\n",
    "            print(\"Log to the base 10 of \"+str(num)+\" not defined\")\n",
    "\n",
    "values = [0.8, -0.1, 0.9, -0.1, 0.1, 0.300000000004, -0.1, 0.5, 1.0, -0.1, \n",
    "0.9, 0.9, 0.1, 1.0, 0.2, 0.2, 0.1, 0.9, 0.0, 1.0]\n",
    "batch_log(values)"
   ]
  },
  {
   "cell_type": "code",
   "execution_count": 27,
   "id": "e2de1365-d10f-4b1c-b331-e89adab60e57",
   "metadata": {},
   "outputs": [
    {
     "name": "stdout",
     "output_type": "stream",
     "text": [
      "Value withdrawn vcannot be greater than the balance\n"
     ]
    }
   ],
   "source": [
    "\"\"\"Consider the following implementation of an Account class and a withdraw method.\n",
    "create a custom exception type name InsufficientBalanceError and modify the \n",
    "code to raise this type of exception every time there is an attempt to withdraw a value \n",
    "greater than the current available balance:\"\"\"\n",
    "\n",
    "class InsufficientBalanceError(Exception):\n",
    "    pass\n",
    "\n",
    "class Account:\n",
    "    def __init__(self, number, balance):\n",
    "        self.number = number\n",
    "        self.balance = balance\n",
    "    def withdraw(self, value):\n",
    "        # TODO: withdraw cannot happen if value is greater than balance\n",
    "        try:\n",
    "            if value > self.balance:\n",
    "                raise InsufficientBalanceError\n",
    "            self.balance -= value\n",
    "        except InsufficientBalanceError:\n",
    "            print(\"Value withdrawn vcannot be greater than the balance\")\n",
    "# sample code\n",
    "account = Account(\"1000\", 100)\n",
    "account.withdraw(200)"
   ]
  },
  {
   "cell_type": "code",
   "execution_count": 70,
   "id": "6660894f-b086-4bfd-b9f0-3680dac27d10",
   "metadata": {},
   "outputs": [
    {
     "data": {
      "text/plain": [
       "array([[ 1.37908284, -0.07701533, -0.37230555, -0.96720452, -0.32153663],\n",
       "       [ 0.63058228,  0.88424543, -0.58486748,  1.01430352, -0.18605981],\n",
       "       [-0.34868936,  0.79129829, -0.13582793, -0.26973189, -0.87521655],\n",
       "       [ 2.5161612 ,  0.46130456, -0.09388655, -0.45361363, -0.24746331],\n",
       "       [-1.33376349, -0.67662417,  1.014718  ,  0.7289181 ,  1.30744683],\n",
       "       [ 0.66586871,  0.27379706,  1.64146656, -1.42409126,  1.1382115 ],\n",
       "       [ 1.10349537, -0.94124602,  1.79345023, -0.33759756, -0.05007677],\n",
       "       [ 0.78161536, -0.00997469, -0.62417893, -1.11464074,  0.99339071],\n",
       "       [-1.20510364,  0.96878432, -0.13369962, -0.09292019,  0.39934536],\n",
       "       [-2.48732532, -1.02266987, -0.03206469,  0.71276334, -1.74202078]])"
      ]
     },
     "execution_count": 70,
     "metadata": {},
     "output_type": "execute_result"
    }
   ],
   "source": [
    "\"\"\"Create a NumPy multidimensional array (10 rows x 5 columns) with random values.\"\"\"\n",
    "import numpy as np\n",
    "\n",
    "a = np.random.randn(10,5)\n",
    "\n",
    "a"
   ]
  },
  {
   "cell_type": "code",
   "execution_count": 71,
   "id": "a76a6211-9dde-49f1-88f4-6cacfa72b519",
   "metadata": {},
   "outputs": [
    {
     "name": "stdout",
     "output_type": "stream",
     "text": [
      "5\n"
     ]
    }
   ],
   "source": [
    "\"\"\"Using the array created in (5), write a function that returns the index of the row with the \n",
    "highest mean value\"\"\"\n",
    "\n",
    "def row_index_max_mean(arr):\n",
    "    m,n = np.shape(arr)\n",
    "    max_means = [np.mean(arr[i]) for i in range(m)]\n",
    "    return np.where(max_means == max(max_means))[0][0]\n",
    "\n",
    "print(row_index_max_mean(a))\n"
   ]
  },
  {
   "cell_type": "code",
   "execution_count": 72,
   "id": "28fd7f93-ffdb-43b6-a345-88320ef5334a",
   "metadata": {},
   "outputs": [
    {
     "name": "stdout",
     "output_type": "stream",
     "text": [
      "3\n"
     ]
    }
   ],
   "source": [
    "\"\"\". Using the array created in (5), write a function that returns the index of the column with \n",
    "the highest mean value.\"\"\"\n",
    "\n",
    "def col_index_max_mean(arr):\n",
    "    m,n = np.shape(arr.transpose())\n",
    "    max_means = [np.mean(arr[i]) for i in range(m)]\n",
    "    return np.where(max_means == max(max_means))[0][0]\n",
    "\n",
    "print(col_index_max_mean(a))\n",
    "    "
   ]
  },
  {
   "cell_type": "code",
   "execution_count": 85,
   "id": "221d2d22-59f6-41a0-9d3c-3ece31d7a368",
   "metadata": {},
   "outputs": [
    {
     "name": "stdout",
     "output_type": "stream",
     "text": [
      "(3, 0)\n"
     ]
    }
   ],
   "source": [
    "\"\"\". * Using the array create in (5), write a function that return a tuple (row, column) \n",
    "representing the indexes of the row and column of the maximum value in the array\"\"\"\n",
    "\n",
    "def index_max_value(arr):\n",
    "    result = np.where(arr == arr.max())\n",
    "    return (result[0][0], result[1][0])\n",
    "\n",
    "print(index_max_value(a))"
   ]
  }
 ],
 "metadata": {
  "kernelspec": {
   "display_name": "Python 3 (ipykernel)",
   "language": "python",
   "name": "python3"
  },
  "language_info": {
   "codemirror_mode": {
    "name": "ipython",
    "version": 3
   },
   "file_extension": ".py",
   "mimetype": "text/x-python",
   "name": "python",
   "nbconvert_exporter": "python",
   "pygments_lexer": "ipython3",
   "version": "3.10.12"
  }
 },
 "nbformat": 4,
 "nbformat_minor": 5
}
