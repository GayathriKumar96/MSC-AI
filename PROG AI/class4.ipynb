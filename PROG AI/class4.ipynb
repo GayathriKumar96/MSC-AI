{
 "cells": [
  {
   "cell_type": "code",
   "execution_count": 3,
   "id": "8c094699-736e-4881-b86f-45c957f01ead",
   "metadata": {},
   "outputs": [
    {
     "name": "stdout",
     "output_type": "stream",
     "text": [
      "5\n",
      "Hello World\n",
      "11.8\n",
      "1020\n"
     ]
    }
   ],
   "source": [
    "#1. Write a python func3on that accepts two arguments and returns their sum. It should support different types without genera3ng errors\n",
    "\n",
    "def add(a,b):\n",
    "    return a+b\n",
    "\n",
    "print(add(2,3))\n",
    "print(add(\"Hello \",\"World\"))\n",
    "print(add(3.7,8.1))\n",
    "print(add(\"10\",\"20\"))"
   ]
  },
  {
   "cell_type": "code",
   "execution_count": 8,
   "id": "708573a1-14a3-4950-b270-1d49bde95550",
   "metadata": {},
   "outputs": [
    {
     "data": {
      "text/plain": [
       "24.0"
      ]
     },
     "execution_count": 8,
     "metadata": {},
     "output_type": "execute_result"
    }
   ],
   "source": [
    "#2. Implement a python func3on that accepts a list and compute its sum. E.g.: f ([1, 2, 3, 4]) -> 10 \n",
    "\n",
    "def f(a_list):\n",
    "    sum=0\n",
    "    for a in a_list:\n",
    "        sum+=a\n",
    "    return sum\n",
    "\n",
    "f([1, 2, 3, 4,22.4, 6, -9, 0, -5.4])"
   ]
  },
  {
   "cell_type": "code",
   "execution_count": 17,
   "id": "efd7538e-ab09-4dc2-9cc3-821878d9803f",
   "metadata": {},
   "outputs": [
    {
     "name": "stdout",
     "output_type": "stream",
     "text": [
      "[5, 7, 9, 11, 13]\n",
      "None\n"
     ]
    }
   ],
   "source": [
    "\"\"\"3. Implement a Python func3on that accepts two lists and returns a third list \n",
    "containing the element-wise sums. This opera3on only makes sense if the \n",
    "lists are the same size, so check for that and return nothing when a size \n",
    "mismatch is detected. E.g. \n",
    "f ([1, 2, 3], [4, 5, 6]) -> [5, 7, 9] \n",
    "f([1], [2,3]) -> None\"\"\"\n",
    "\n",
    "def f(l1, l2):\n",
    "    if len(l1)!=len(l2):\n",
    "        return None\n",
    "    sum_list = [l1[i]+l2[i] for i in range(len(l1))]\n",
    "    return sum_list\n",
    "\n",
    "print(f([1, 2, 3,4,5], [4, 5, 6,7,8]))\n",
    "print(f([1,7], [2,3,9]))"
   ]
  },
  {
   "cell_type": "code",
   "execution_count": 20,
   "id": "c662369f-0cbf-4abd-b0e8-15c07b30b1a0",
   "metadata": {},
   "outputs": [
    {
     "name": "stdout",
     "output_type": "stream",
     "text": [
      "[5, 7, 9, 11, 13]\n",
      "None\n"
     ]
    }
   ],
   "source": [
    "\"\"\"4.Update your solu3on to exercise 3 to accept the KWARGs: “Arg1” and \n",
    "“Arg2”, their values are the lists.\"\"\"\n",
    "\n",
    "def f(**kwargs):\n",
    "    if len(kwargs[\"arg1\"])!=len(kwargs[\"arg2\"]):\n",
    "        return None\n",
    "    sum_list = [kwargs[\"arg1\"][i]+kwargs[\"arg2\"][i] for i in range(len(kwargs[\"arg1\"]))]\n",
    "    return sum_list\n",
    "\n",
    "print(f(arg1=[1, 2, 3,4,5], arg2=[4, 5, 6,7,8]))\n",
    "print(f(arg1=[1,7], arg2=[2,3,9]))"
   ]
  },
  {
   "cell_type": "code",
   "execution_count": 23,
   "id": "3abe84a1-e5ce-443a-8cc0-8e57f3d526c2",
   "metadata": {},
   "outputs": [
    {
     "name": "stdout",
     "output_type": "stream",
     "text": [
      "(5, [5, 7, 9, 11, 13])\n",
      "None\n"
     ]
    }
   ],
   "source": [
    "#5.Update your solu3on to exercise 4 to return a tuple of the form (len, listof-sums).\n",
    "def f(**kwargs):\n",
    "    if len(kwargs[\"arg1\"])!=len(kwargs[\"arg2\"]):\n",
    "        return None\n",
    "    sum_list = [kwargs[\"arg1\"][i]+kwargs[\"arg2\"][i] for i in range(len(kwargs[\"arg1\"]))]\n",
    "    return (len(kwargs[\"arg1\"]), sum_list)\n",
    "\n",
    "print(f(arg1=[1, 2, 3,4,5], arg2=[4, 5, 6,7,8]))\n",
    "print(f(arg1=[1,7], arg2=[2,3,9]))"
   ]
  },
  {
   "cell_type": "code",
   "execution_count": 32,
   "id": "7297dbb2-84e7-4740-9210-4fea126a9f6e",
   "metadata": {},
   "outputs": [
    {
     "name": "stdout",
     "output_type": "stream",
     "text": [
      "[0, 1, 1, 2, 3, 5, 8, 13]\n"
     ]
    }
   ],
   "source": [
    "\"\"\"Implement a func3on that computes the Fibonacci sequence (recall that \n",
    "the sequence is constructed as Fi = Fi-2 + Fi-1). It will accept an argument \n",
    "for the length of the desired sequence. Feel free to use either itera3on or \n",
    "recursion.\n",
    "Fib(6) -> [0, 1, 1, 2, 3, 5]\"\"\"\n",
    "\n",
    "def Fib(n):\n",
    "    a=0\n",
    "    b=1\n",
    "    if n<1:\n",
    "        return \"Invalid!\"\n",
    "    elif n==1:\n",
    "        return [a]\n",
    "    elif n==2:\n",
    "        return [a,b]\n",
    "    else:\n",
    "        fib_list = [a]\n",
    "        for i in range(1,n):\n",
    "            fib_list.append(b)\n",
    "            a,b = b,a+b\n",
    "        return fib_list\n",
    "\n",
    "print(Fib(8))"
   ]
  }
 ],
 "metadata": {
  "kernelspec": {
   "display_name": "Python 3 (ipykernel)",
   "language": "python",
   "name": "python3"
  },
  "language_info": {
   "codemirror_mode": {
    "name": "ipython",
    "version": 3
   },
   "file_extension": ".py",
   "mimetype": "text/x-python",
   "name": "python",
   "nbconvert_exporter": "python",
   "pygments_lexer": "ipython3",
   "version": "3.10.12"
  }
 },
 "nbformat": 4,
 "nbformat_minor": 5
}
